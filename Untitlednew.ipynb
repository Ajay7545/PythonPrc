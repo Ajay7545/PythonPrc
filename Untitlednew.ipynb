{
 "cells": [
  {
   "cell_type": "code",
   "execution_count": 1,
   "metadata": {},
   "outputs": [],
   "source": [
    "import sqlite3 as sq\n"
   ]
  },
  {
   "cell_type": "code",
   "execution_count": 4,
   "metadata": {},
   "outputs": [],
   "source": [
    "con = sq.connect(\"mydb.sqlite\")\n"
   ]
  },
  {
   "cell_type": "code",
   "execution_count": 26,
   "metadata": {},
   "outputs": [],
   "source": [
    "query='''create table students(\n",
    "          id integer primary key autoincrement,\n",
    "          name text,\n",
    "          clas integer,\n",
    "          section text,\n",
    "          headmaster text,\n",
    "          guardian text,\n",
    "          rollno text)'''"
   ]
  },
  {
   "cell_type": "code",
   "execution_count": 11,
   "metadata": {},
   "outputs": [
    {
     "name": "stdout",
     "output_type": "stream",
     "text": [
      "sorry\n"
     ]
    }
   ],
   "source": [
    "try:\n",
    "    con.execute(query)\n",
    "    con.commit()\n",
    "except Exception as e:\n",
    "     print(\"sorry\")"
   ]
  },
  {
   "cell_type": "code",
   "execution_count": 12,
   "metadata": {},
   "outputs": [
    {
     "name": "stdout",
     "output_type": "stream",
     "text": [
      "success\n"
     ]
    }
   ],
   "source": [
    "query='''INSERT INTO students Values(\n",
    "    null,'Ram',7,'A','Rohit' ,'Ramesh','7AE122' )'''\n",
    "try:\n",
    "    con.execute(query)\n",
    "    con.commit()\n",
    "    print(\"success\")\n",
    "except Exception as e:\n",
    "    print(e)\n",
    "    "
   ]
  },
  {
   "cell_type": "code",
   "execution_count": 51,
   "metadata": {},
   "outputs": [],
   "source": [
    "def add_student(con,name,clas,section,headmaster,guardian,rollno):\n",
    "    query=f'''INSERT INTO students values(\n",
    "     null,'{name}',{clas},'{section}','{headmaster}','{guardian}','{rollno}'  )'''\n",
    "    try:\n",
    "        con.execute(query)\n",
    "        con.commit()\n",
    "        print(\"success\")\n",
    "    except Exception as e:\n",
    "        print(e)\n",
    "    "
   ]
  },
  {
   "cell_type": "code",
   "execution_count": 52,
   "metadata": {},
   "outputs": [
    {
     "name": "stdout",
     "output_type": "stream",
     "text": [
      "success\n"
     ]
    }
   ],
   "source": [
    "add_student(con,'srish',8,'A','Ria','Jre','34E45')"
   ]
  },
  {
   "cell_type": "code",
   "execution_count": 53,
   "metadata": {},
   "outputs": [
    {
     "name": "stdout",
     "output_type": "stream",
     "text": [
      "success\n",
      "success\n",
      "success\n",
      "success\n",
      "success\n"
     ]
    }
   ],
   "source": [
    "add_student(con,'srish',8,'A','Ria','Jre','34E45')\n",
    "add_student(con,'risu',9,'B','Tia','Jre','84E45')\n",
    "add_student(con,'rose',6,'C','Renu','Jde','84E45')\n",
    "add_student(con,'lily',9,'P','KV','Jdk','04E45')\n",
    "add_student(con,'sunny',7,'L','URL','Pre','94E45')"
   ]
  },
  {
   "cell_type": "code",
   "execution_count": 55,
   "metadata": {},
   "outputs": [
    {
     "data": {
      "text/plain": [
       "[(1, 'Ram', 7, 'A', 'Rohit', 'Ramesh', '7AE122'),\n",
       " (2, 'Ram', 7, 'A', 'Rohit', 'Ramesh', '7AE122'),\n",
       " (3, 'Ram', 7, 'A', 'Rohit', 'Ramesh', '7AE122'),\n",
       " (4, 'Ram', 7, 'A', 'Rohit', 'Ramesh', '7AE122'),\n",
       " (5, 'Ram', 7, 'A', 'Rohit', 'Ramesh', '7AE122'),\n",
       " (6, 'Ram', 7, 'A', 'Rohit', 'Ramesh', '7AE122'),\n",
       " (7, 'Ram', 7, 'A', 'Rohit', 'Ramesh', '7AE122'),\n",
       " (8, 'Ram', 7, 'A', 'Rohit', 'Ramesh', '7AE122'),\n",
       " (9, 'Ram', 7, 'A', 'Rohit', 'Ramesh', '7AE122'),\n",
       " (10, 'srish', 8, 'A', 'Ria', 'Jre', '34E45'),\n",
       " (11, 'srish', 8, 'A', 'Ria', 'Jre', '34E45'),\n",
       " (12, 'risu', 9, 'B', 'Tia', 'Jre', '84E45'),\n",
       " (13, 'rose', 6, 'C', 'Renu', 'Jde', '84E45'),\n",
       " (14, 'lily', 9, 'P', 'KV', 'Jdk', '04E45'),\n",
       " (15, 'sunny', 7, 'L', 'URL', 'Pre', '94E45')]"
      ]
     },
     "execution_count": 55,
     "metadata": {},
     "output_type": "execute_result"
    }
   ],
   "source": [
    "result=con.execute(\"Select * from students\")\n",
    "data=result.fetchall()\n",
    "data"
   ]
  },
  {
   "cell_type": "code",
   "execution_count": 27,
   "metadata": {},
   "outputs": [],
   "source": [
    "import sqlite3 as sq\n",
    "con = sq.connect(\"mydb.sqlite\")\n",
    "def delete_by_id(con,id):\n",
    "    query=f'''DELETE  from students\n",
    "            where id={id}'''\n",
    "    try:\n",
    "        con.execute(query)\n",
    "        con.commit()\n",
    "    except Exception as e:\n",
    "        print(e)\n",
    "        \n",
    "        \n",
    "\n",
    "\n"
   ]
  },
  {
   "cell_type": "code",
   "execution_count": 21,
   "metadata": {},
   "outputs": [],
   "source": [
    "delete_by_id(con,5)"
   ]
  },
  {
   "cell_type": "code",
   "execution_count": 29,
   "metadata": {},
   "outputs": [],
   "source": [
    "import sqlite3 as sq\n",
    "con = sq.connect(\"mydb.sqlite\")\n",
    "def update_by_id(con,id):\n",
    "    query=f'''UPDATE students\n",
    "           SET name='Shiv'  where id={id}'''\n",
    "    try:\n",
    "        con.execute(query)\n",
    "        con.commit()\n",
    "    except Exception as e:\n",
    "        print(e)\n",
    "        "
   ]
  },
  {
   "cell_type": "code",
   "execution_count": 33,
   "metadata": {},
   "outputs": [],
   "source": [
    "update_by_id(con,9)"
   ]
  },
  {
   "cell_type": "code",
   "execution_count": 40,
   "metadata": {},
   "outputs": [],
   "source": [
    "import sqlite3 as sq\n",
    "con = sq.connect(\"mydb2.sqlite\")\n",
    "\n",
    "    "
   ]
  },
  {
   "cell_type": "code",
   "execution_count": 18,
   "metadata": {},
   "outputs": [],
   "source": [
    "query='''create table book(\n",
    "          id integer primary key autoincrement,\n",
    "          name text,\n",
    "          author text,\n",
    "          isbnno integer,\n",
    "          totalpages integer,\n",
    "          price integer,\n",
    "          issuedate text )'''"
   ]
  },
  {
   "cell_type": "code",
   "execution_count": 2,
   "metadata": {},
   "outputs": [
    {
     "name": "stdout",
     "output_type": "stream",
     "text": [
      "name 'query' is not defined\n"
     ]
    }
   ],
   "source": [
    "import sqlite3 as sq\n",
    "con = sq.connect(\"mydb2.sqlite\")\n",
    "try:\n",
    "    con.execute(query)\n",
    "    con.commit()\n",
    "except Exception as e:\n",
    "    print(e)\n",
    "    "
   ]
  },
  {
   "cell_type": "code",
   "execution_count": 3,
   "metadata": {},
   "outputs": [],
   "source": [
    "\n",
    "import sqlite3 as sq\n",
    "con = sq.connect(\"mydb2.sqlite\")\n",
    "def add_book(con,name,author,isbnno,totalpages,price,issuedate):\n",
    "    query=f'''INSERT into book values(\n",
    "    null,'{name}','{author}',{isbnno},{totalpages},{price},'{issuedate}')'''\n",
    "    try:\n",
    "        con.execute(query)\n",
    "        con.commit()\n",
    "    except Exception as e:\n",
    "        print(e)\n",
    "        \n"
   ]
  },
  {
   "cell_type": "code",
   "execution_count": 4,
   "metadata": {},
   "outputs": [],
   "source": [
    "add_book(con,'RD Sharma','RD Sharma',8907,890,560,'18july')\n",
    "add_book(con,'RS Agarwal','RS Agarwal',6790,900,789,'19july')\n",
    "add_book(con,'HC Verma','HC Verma',8906,677,500,'30jul')\n",
    "add_book(con,'DAA','RS Agarwal',9076,890,600,'1Aug')\n",
    "add_book(con,'DS','Reema Thareja',8905,800,500,'7Aug')\n"
   ]
  },
  {
   "cell_type": "code",
   "execution_count": null,
   "metadata": {},
   "outputs": [],
   "source": [
    "import sqlite as sq\n",
    "con = sq.connect(\"mydb2.sqlite\")\n",
    "def delete_book(con,id):\n",
    "    query=f'''DELETE from book value(\n",
    "     )'''"
   ]
  },
  {
   "cell_type": "code",
   "execution_count": null,
   "metadata": {},
   "outputs": [],
   "source": []
  }
 ],
 "metadata": {
  "kernelspec": {
   "display_name": "Python 3",
   "language": "python",
   "name": "python3"
  },
  "language_info": {
   "codemirror_mode": {
    "name": "ipython",
    "version": 3
   },
   "file_extension": ".py",
   "mimetype": "text/x-python",
   "name": "python",
   "nbconvert_exporter": "python",
   "pygments_lexer": "ipython3",
   "version": "3.6.5"
  }
 },
 "nbformat": 4,
 "nbformat_minor": 2
}
