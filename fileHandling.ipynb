{
 "cells": [
  {
   "cell_type": "code",
   "execution_count": 1,
   "metadata": {},
   "outputs": [],
   "source": [
    "import os\n",
    "import shutil as sh"
   ]
  },
  {
   "cell_type": "code",
   "execution_count": 2,
   "metadata": {},
   "outputs": [
    {
     "data": {
      "text/plain": [
       "'C:\\\\Users\\\\ajayk'"
      ]
     },
     "execution_count": 2,
     "metadata": {},
     "output_type": "execute_result"
    }
   ],
   "source": [
    "os.getcwd()"
   ]
  },
  {
   "cell_type": "code",
   "execution_count": 3,
   "metadata": {},
   "outputs": [
    {
     "name": "stdout",
     "output_type": "stream",
     "text": [
      "C:\\Users\n"
     ]
    }
   ],
   "source": [
    "cd .."
   ]
  },
  {
   "cell_type": "code",
   "execution_count": 4,
   "metadata": {},
   "outputs": [
    {
     "name": "stdout",
     "output_type": "stream",
     "text": [
      "C:\\Users\\ajayk\n"
     ]
    }
   ],
   "source": [
    "cd ajayk"
   ]
  },
  {
   "cell_type": "code",
   "execution_count": 5,
   "metadata": {},
   "outputs": [
    {
     "data": {
      "text/plain": [
       "<function nt.listdir(path=None)>"
      ]
     },
     "execution_count": 5,
     "metadata": {},
     "output_type": "execute_result"
    }
   ],
   "source": [
    "os.listdir"
   ]
  },
  {
   "cell_type": "code",
   "execution_count": 25,
   "metadata": {},
   "outputs": [
    {
     "data": {
      "text/plain": [
       "'C:\\\\Users\\\\ajayk'"
      ]
     },
     "execution_count": 25,
     "metadata": {},
     "output_type": "execute_result"
    }
   ],
   "source": [
    "os.getcwd()"
   ]
  },
  {
   "cell_type": "code",
   "execution_count": 26,
   "metadata": {},
   "outputs": [
    {
     "ename": "FileNotFoundError",
     "evalue": "[Errno 2] No such file or directory: 'C:\\\\User\\\\ajayk\\\\Desktop\\\\ab.txt'",
     "output_type": "error",
     "traceback": [
      "\u001b[1;31m---------------------------------------------------------------------------\u001b[0m",
      "\u001b[1;31mFileNotFoundError\u001b[0m                         Traceback (most recent call last)",
      "\u001b[1;32m<ipython-input-26-cbee06a06a52>\u001b[0m in \u001b[0;36m<module>\u001b[1;34m()\u001b[0m\n\u001b[1;32m----> 1\u001b[1;33m \u001b[0mf\u001b[0m\u001b[1;33m=\u001b[0m\u001b[0mopen\u001b[0m\u001b[1;33m(\u001b[0m\u001b[1;34m'C:\\\\User\\\\ajayk\\\\Desktop\\\\ab.txt'\u001b[0m\u001b[1;33m)\u001b[0m\u001b[1;33m\u001b[0m\u001b[0m\n\u001b[0m",
      "\u001b[1;31mFileNotFoundError\u001b[0m: [Errno 2] No such file or directory: 'C:\\\\User\\\\ajayk\\\\Desktop\\\\ab.txt'"
     ]
    }
   ],
   "source": [
    "f=open('C:\\\\User\\\\ajayk\\\\Desktop\\\\ab.txt')"
   ]
  },
  {
   "cell_type": "code",
   "execution_count": 11,
   "metadata": {},
   "outputs": [
    {
     "data": {
      "text/plain": [
       "['Algoproject',\n",
       " 'Android',\n",
       " 'eRation',\n",
       " 'facebook real look',\n",
       " 'Hospital management',\n",
       " 'Hotel Mangmnt By c',\n",
       " 'Java Project',\n",
       " 'Mano Machinr COA',\n",
       " 'MiniOs',\n",
       " 'UnityProject']"
      ]
     },
     "execution_count": 11,
     "metadata": {},
     "output_type": "execute_result"
    }
   ],
   "source": [
    "os.listdir('D:\\Study\\Project')"
   ]
  },
  {
   "cell_type": "code",
   "execution_count": 13,
   "metadata": {},
   "outputs": [
    {
     "data": {
      "text/plain": [
       "['8085',\n",
       " 'Android',\n",
       " 'C Programming',\n",
       " 'C++ Prog',\n",
       " 'Complete Core Java Programming Course Beginners to Advance.mp4',\n",
       " 'Data Structr',\n",
       " 'Histry 2WWar',\n",
       " 'Java',\n",
       " 'JavaScript',\n",
       " 'os iit',\n",
       " 'PHP-MySql',\n",
       " 'PYTHON',\n",
       " 'SAndroid.mp4',\n",
       " 'Signals and Systems _ GATE Exam Preperation _ GATE Syllabus.mp4',\n",
       " 'SQL']"
      ]
     },
     "execution_count": 13,
     "metadata": {},
     "output_type": "execute_result"
    }
   ],
   "source": [
    "os.listdir('D:\\Study\\ZStudy Video')"
   ]
  },
  {
   "cell_type": "code",
   "execution_count": 17,
   "metadata": {},
   "outputs": [
    {
     "data": {
      "text/plain": [
       "['conda-meta', 'Lib', 'pkgs', 't8459.tmp.dir', 'vscode_eula.txt']"
      ]
     },
     "execution_count": 17,
     "metadata": {},
     "output_type": "execute_result"
    }
   ],
   "source": [
    "os.listdir('Anaconda3')"
   ]
  },
  {
   "cell_type": "code",
   "execution_count": 18,
   "metadata": {},
   "outputs": [
    {
     "data": {
      "text/plain": [
       "['api-ms-win-core-console-l1-1-0.dll',\n",
       " 'api-ms-win-core-datetime-l1-1-0.dll',\n",
       " 'api-ms-win-core-debug-l1-1-0.dll',\n",
       " 'api-ms-win-core-errorhandling-l1-1-0.dll',\n",
       " 'api-ms-win-core-file-l1-1-0.dll',\n",
       " 'api-ms-win-core-file-l1-2-0.dll',\n",
       " 'api-ms-win-core-file-l2-1-0.dll',\n",
       " 'api-ms-win-core-handle-l1-1-0.dll',\n",
       " 'api-ms-win-core-heap-l1-1-0.dll',\n",
       " 'api-ms-win-core-interlocked-l1-1-0.dll',\n",
       " 'api-ms-win-core-libraryloader-l1-1-0.dll',\n",
       " 'api-ms-win-core-localization-l1-2-0.dll',\n",
       " 'api-ms-win-core-memory-l1-1-0.dll',\n",
       " 'api-ms-win-core-namedpipe-l1-1-0.dll',\n",
       " 'api-ms-win-core-processenvironment-l1-1-0.dll',\n",
       " 'api-ms-win-core-processthreads-l1-1-0.dll',\n",
       " 'api-ms-win-core-processthreads-l1-1-1.dll',\n",
       " 'api-ms-win-core-profile-l1-1-0.dll',\n",
       " 'api-ms-win-core-rtlsupport-l1-1-0.dll',\n",
       " 'api-ms-win-core-string-l1-1-0.dll',\n",
       " 'api-ms-win-core-synch-l1-1-0.dll',\n",
       " 'api-ms-win-core-synch-l1-2-0.dll',\n",
       " 'api-ms-win-core-sysinfo-l1-1-0.dll',\n",
       " 'api-ms-win-core-timezone-l1-1-0.dll',\n",
       " 'api-ms-win-core-util-l1-1-0.dll',\n",
       " 'api-ms-win-crt-conio-l1-1-0.dll',\n",
       " 'api-ms-win-crt-convert-l1-1-0.dll',\n",
       " 'api-ms-win-crt-environment-l1-1-0.dll',\n",
       " 'api-ms-win-crt-filesystem-l1-1-0.dll',\n",
       " 'api-ms-win-crt-heap-l1-1-0.dll',\n",
       " 'api-ms-win-crt-locale-l1-1-0.dll',\n",
       " 'api-ms-win-crt-math-l1-1-0.dll',\n",
       " 'api-ms-win-crt-multibyte-l1-1-0.dll',\n",
       " 'api-ms-win-crt-private-l1-1-0.dll',\n",
       " 'api-ms-win-crt-process-l1-1-0.dll',\n",
       " 'api-ms-win-crt-runtime-l1-1-0.dll',\n",
       " 'api-ms-win-crt-stdio-l1-1-0.dll',\n",
       " 'api-ms-win-crt-string-l1-1-0.dll',\n",
       " 'api-ms-win-crt-time-l1-1-0.dll',\n",
       " 'api-ms-win-crt-utility-l1-1-0.dll',\n",
       " 'concrt140.dll',\n",
       " 'conda-meta',\n",
       " 'cwp.py',\n",
       " 'DLLs',\n",
       " 'envs',\n",
       " 'etc',\n",
       " 'include',\n",
       " 'Lib',\n",
       " 'Library',\n",
       " 'libs',\n",
       " 'LICENSE_PYTHON.txt',\n",
       " 'man',\n",
       " 'Menu',\n",
       " 'msvcp140.dll',\n",
       " 'openssl.exe',\n",
       " 'pkgs',\n",
       " 'python.exe',\n",
       " 'python.pdb',\n",
       " 'python3.dll',\n",
       " 'python36.dll',\n",
       " 'python36.pdb',\n",
       " 'pythonw.exe',\n",
       " 'pythonw.pdb',\n",
       " 'qt.conf',\n",
       " 'Scripts',\n",
       " 'share',\n",
       " 'sip',\n",
       " 'tcl',\n",
       " 'Tools',\n",
       " 'ucrtbase.dll',\n",
       " 'Uninstall-Anaconda3.exe',\n",
       " 'vccorlib140.dll',\n",
       " 'vcomp140.dll',\n",
       " 'vcruntime140.dll',\n",
       " 'vscode_eula.txt',\n",
       " 'xlwings32-0.11.8.dll',\n",
       " 'xlwings64-0.11.8.dll']"
      ]
     },
     "execution_count": 18,
     "metadata": {},
     "output_type": "execute_result"
    }
   ],
   "source": [
    "os.listdir('C:\\ProgramData\\Anaconda3')"
   ]
  },
  {
   "cell_type": "code",
   "execution_count": 29,
   "metadata": {},
   "outputs": [
    {
     "data": {
      "text/plain": [
       "'C:\\\\Users\\\\ajayk'"
      ]
     },
     "execution_count": 29,
     "metadata": {},
     "output_type": "execute_result"
    }
   ],
   "source": [
    "os.getcwd()"
   ]
  },
  {
   "cell_type": "code",
   "execution_count": 33,
   "metadata": {},
   "outputs": [
    {
     "name": "stdout",
     "output_type": "stream",
     "text": [
      "C:\\Users\n"
     ]
    }
   ],
   "source": [
    "cd .."
   ]
  },
  {
   "cell_type": "code",
   "execution_count": 36,
   "metadata": {},
   "outputs": [
    {
     "data": {
      "text/plain": [
       "['ajayk',\n",
       " 'All Users',\n",
       " 'Default',\n",
       " 'Default User',\n",
       " 'desktop.ini',\n",
       " 'Friend',\n",
       " 'Public']"
      ]
     },
     "execution_count": 36,
     "metadata": {},
     "output_type": "execute_result"
    }
   ],
   "source": [
    "os.listdir()"
   ]
  },
  {
   "cell_type": "code",
   "execution_count": 37,
   "metadata": {},
   "outputs": [
    {
     "name": "stdout",
     "output_type": "stream",
     "text": [
      "[WinError 2] The system cannot find the file specified: 'Users'\n",
      "C:\\Users\n"
     ]
    }
   ],
   "source": [
    "cd Users"
   ]
  },
  {
   "cell_type": "code",
   "execution_count": 38,
   "metadata": {},
   "outputs": [
    {
     "data": {
      "text/plain": [
       "'C:\\\\Users'"
      ]
     },
     "execution_count": 38,
     "metadata": {},
     "output_type": "execute_result"
    }
   ],
   "source": [
    "os.getcwd()"
   ]
  },
  {
   "cell_type": "code",
   "execution_count": 41,
   "metadata": {},
   "outputs": [
    {
     "data": {
      "text/plain": [
       "'C:\\\\Users'"
      ]
     },
     "execution_count": 41,
     "metadata": {},
     "output_type": "execute_result"
    }
   ],
   "source": [
    "os.getcwd()"
   ]
  },
  {
   "cell_type": "code",
   "execution_count": 44,
   "metadata": {},
   "outputs": [
    {
     "data": {
      "text/plain": [
       "['desktop.ini']"
      ]
     },
     "execution_count": 44,
     "metadata": {},
     "output_type": "execute_result"
    }
   ],
   "source": [
    "os.listdir('C:\\\\Users\\\\ajayk\\\\Desktop')"
   ]
  },
  {
   "cell_type": "code",
   "execution_count": 55,
   "metadata": {},
   "outputs": [
    {
     "data": {
      "text/plain": [
       "['4.1 User Input Controls.pptx',\n",
       " '4.2 Menus.pptx',\n",
       " '4.3 Screen Navigation.pptx',\n",
       " '4.4 Recycler View.pptx',\n",
       " '5.1 Drawables, Styles, and Themes.pptx',\n",
       " '5.2 Material Design.pptx',\n",
       " '5.3 Resources for Adaptive Layout.pptx',\n",
       " '6.1 Testing the User Interface.pptx',\n",
       " '7.1 AsyncTask and AsyncTaskLoader.pptx',\n",
       " '7.2 Connect to the Internet.pptx',\n",
       " '7.3 Broadcast Receivers.pptx',\n",
       " 'ab.txt.txt',\n",
       " 'Academic Calender 2017-18 130117.pdf',\n",
       " 'Android Studio.lnk',\n",
       " 'CodeBlocks.lnk',\n",
       " 'desktop.ini',\n",
       " 'fdds.jpg',\n",
       " 'fssf.jpg',\n",
       " 'New folder',\n",
       " 'Nox.lnk',\n",
       " 'sdf.jpg',\n",
       " 'sss.jpg',\n",
       " 'UmmyVideoDownloader.lnk']"
      ]
     },
     "execution_count": 55,
     "metadata": {},
     "output_type": "execute_result"
    }
   ],
   "source": [
    "os.listdir('C:\\\\Users\\\\ajayk\\\\OneDrive\\\\Desktop')"
   ]
  },
  {
   "cell_type": "code",
   "execution_count": 57,
   "metadata": {},
   "outputs": [
    {
     "data": {
      "text/plain": [
       "'Im Ajay Kumar\\nIm silent killer\\nIm CS student\\nMy hometown is Lucknow\\nMy DOB is 4/7/1996\\n'"
      ]
     },
     "execution_count": 57,
     "metadata": {},
     "output_type": "execute_result"
    }
   ],
   "source": [
    "f=open('C:\\\\Users\\\\ajayk\\\\OneDrive\\\\Desktop\\\\ab.txt.txt')\n",
    "f.read()"
   ]
  },
  {
   "cell_type": "code",
   "execution_count": 2,
   "metadata": {},
   "outputs": [
    {
     "name": "stdout",
     "output_type": "stream",
     "text": [
      "{\n",
      " \"cells\": [\n",
      "  {\n",
      "   \"cell_type\": \"code\",\n",
      "   \"execution_count\": 1,\n",
      "   \"metadata\": {},\n",
      "   \"outputs\": [],\n",
      "   \"source\": [\n",
      "    \"#List\\n\"\n",
      "   ]\n",
      "  },\n",
      "  {\n",
      "   \"cell_type\": \"code\",\n",
      "   \"execution_count\": 1,\n",
      "   \"metadata\": {},\n",
      "   \"outputs\": [],\n",
      "   \"source\": [\n",
      "    \"a=[]#etylist\"\n",
      "   ]\n",
      "  },\n",
      "  {\n",
      "   \"cell_type\": \"code\",\n",
      "   \"execution_count\": 2,\n",
      "   \"metadata\": {},\n",
      "   \"outputs\": [],\n",
      "   \"source\": [\n",
      "    \"q=[5,6,7,\\\"sfd\\\"]\"\n",
      "   ]\n",
      "  },\n",
      "  {\n",
      "   \"cell_type\": \"code\",\n",
      "   \"execution_count\": 3,\n",
      "   \"metadata\": {},\n",
      "   \"outputs\": [\n",
      "    {\n",
      "     \"name\": \"stdout\",\n",
      "     \"output_type\": \"stream\",\n",
      "     \"text\": [\n",
      "      \"[5, 6, 7, 'sfd']\\n\"\n",
      "     ]\n",
      "    }\n",
      "   ],\n",
      "   \"source\": [\n",
      "    \"print(q)\"\n",
      "   ]\n",
      "  },\n",
      "  {\n",
      "   \"cell_type\": \"code\",\n",
      "   \"execution_count\": 4,\n",
      "   \"metadata\": {},\n",
      "   \"outputs\": [\n",
      "    {\n",
      "     \"data\": {\n",
      "      \"text/plain\": [\n",
      "       \"list\"\n",
      "      ]\n",
      "     },\n",
      "     \"execution_count\": 4,\n",
      "     \"metadata\": {},\n",
      "     \"output_type\": \"execute_result\"\n",
      "    }\n",
      "   ],\n",
      "   \"source\": [\n",
      "    \"type(q)\"\n",
      "   ]\n",
      "  },\n",
      "  {\n",
      "   \"cell_type\": \"code\",\n",
      "   \"execution_count\": 5,\n",
      "   \"metadata\": {},\n",
      "   \"outputs\": [],\n",
      "   \"source\": [\n",
      "    \"s=[3,46,6,\\\"ddf\\\",[4,5,\\\"wdf\\\"]]\"\n",
      "   ]\n",
      "  },\n",
      "  {\n",
      "   \"cell_type\": \"code\",\n",
      "   \"execution_count\": 6,\n",
      "   \"metadata\": {},\n",
      "   \"outputs\": [\n",
      "    {\n",
      "     \"name\": \"stdout\",\n",
      "     \"output_type\": \"stream\",\n",
      "     \"text\": [\n",
      "      \"[3, 46, 6, 'ddf', [4, 5, 'wdf']]\\n\"\n",
      "     ]\n",
      "    }\n",
      "   ],\n",
      "   \"source\": [\n",
      "    \"print(s)\"\n",
      "   ]\n",
      "  },\n",
      "  {\n",
      "   \"cell_type\": \"code\",\n",
      "   \"execution_count\": 8,\n",
      "   \"metadata\": {},\n",
      "   \"outputs\": [],\n",
      "   \"source\": [\n",
      "    \"e=[1,2,3,4,5,6,7,8,9,10]\"\n",
      "   ]\n",
      "  },\n",
      "  {\n",
      "   \"cell_type\": \"code\",\n",
      "   \"execution_count\": 9,\n",
      "   \"metadata\": {},\n",
      "   \"outputs\": [\n",
      "    {\n",
      "     \"name\": \"stdout\",\n",
      "     \"output_type\": \"stream\",\n",
      "     \"text\": [\n",
      "      \"[1, 2, 3, 4, 5, 6, 7, 8, 9, 10]\\n\"\n",
      "     ]\n",
      "    }\n",
      "   ],\n",
      "   \"source\": [\n",
      "    \"print(e)\"\n",
      "   ]\n",
      "  },\n",
      "  {\n",
      "   \"cell_type\": \"code\",\n",
      "   \"execution_count\": 11,\n",
      "   \"metadata\": {},\n",
      "   \"outputs\": [\n",
      "    {\n",
      "     \"data\": {\n",
      "      \"text/plain\": [\n",
      "       \"1\"\n",
      "      ]\n",
      "     },\n",
      "     \"execution_count\": 11,\n",
      "     \"metadata\": {},\n",
      "     \"output_type\": \"execute_result\"\n",
      "    }\n",
      "   ],\n",
      "   \"source\": [\n",
      "    \"e[0]\"\n",
      "   ]\n",
      "  },\n",
      "  {\n",
      "   \"cell_type\": \"code\",\n",
      "   \"execution_count\": 12,\n",
      "   \"metadata\": {},\n",
      "   \"outputs\": [\n",
      "    {\n",
      "     \"data\": {\n",
      "      \"text/plain\": [\n",
      "       \"10\"\n",
      "      ]\n",
      "     },\n",
      "     \"execution_count\": 12,\n",
      "     \"metadata\": {},\n",
      "     \"output_type\": \"execute_result\"\n",
      "    }\n",
      "   ],\n",
      "   \"source\": [\n",
      "    \"e[-1]\"\n",
      "   ]\n",
      "  },\n",
      "  {\n",
      "   \"cell_type\": \"code\",\n",
      "   \"execution_count\": 13,\n",
      "   \"metadata\": {},\n",
      "   \"outputs\": [\n",
      "    {\n",
      "     \"data\": {\n",
      "      \"text/plain\": [\n",
      "       \"[1, 2, 3]\"\n",
      "      ]\n",
      "     },\n",
      "     \"execution_count\": 13,\n",
      "     \"metadata\": {},\n",
      "     \"output_type\": \"execute_result\"\n",
      "    }\n",
      "   ],\n",
      "   \"source\": [\n",
      "    \"e[:3]\"\n",
      "   ]\n",
      "  },\n",
      "  {\n",
      "   \"cell_type\": \"code\",\n",
      "   \"execution_count\": 15,\n",
      "   \"metadata\": {},\n",
      "   \"outputs\": [\n",
      "    {\n",
      "     \"data\": {\n",
      "      \"text/plain\": [\n",
      "       \"[1, 2, 3, 4, 5, 6, 7]\"\n",
      "      ]\n",
      "     },\n",
      "     \"execution_count\": 15,\n",
      "     \"metadata\": {},\n",
      "     \"output_type\": \"execute_result\"\n",
      "    }\n",
      "   ],\n",
      "   \"source\": [\n",
      "    \"e[:-3]\"\n",
      "   ]\n",
      "  },\n",
      "  {\n",
      "   \"cell_type\": \"code\",\n",
      "   \"execution_count\": 16,\n",
      "   \"metadata\": {},\n",
      "   \"outputs\": [\n",
      "    {\n",
      "     \"name\": \"stdout\",\n",
      "     \"output_type\": \"stream\",\n",
      "     \"text\": [\n",
      "      \"[1, 2, 3, 4, 5, 6, 7, 8, 9, 10]\\n\"\n",
      "     ]\n",
      "    }\n",
      "   ],\n",
      "   \"source\": [\n",
      "    \"print(e)\"\n",
      "   ]\n",
      "  },\n",
      "  {\n",
      "   \"cell_type\": \"code\",\n",
      "   \"execution_count\": 18,\n",
      "   \"metadata\": {},\n",
      "   \"outputs\": [],\n",
      "   \"source\": [\n",
      "    \"t=[2,2345,54,'34',4]\"\n",
      "   ]\n",
      "  },\n",
      "  {\n",
      "   \"cell_type\": \"code\",\n",
      "   \"execution_count\": 19,\n",
      "   \"metadata\": {},\n",
      "   \"outputs\": [],\n",
      "   \"source\": [\n",
      "    \"y=int(t[3])\"\n",
      "   ]\n",
      "  },\n",
      "  {\n",
      "   \"cell_type\": \"code\",\n",
      "   \"execution_count\": 20,\n",
      "   \"metadata\": {},\n",
      "   \"outputs\": [\n",
      "    {\n",
      "     \"data\": {\n",
      "      \"text/plain\": [\n",
      "       \"34\"\n",
      "      ]\n",
      "     },\n",
      "     \"execution_count\": 20,\n",
      "     \"metadata\": {},\n",
      "     \"output_type\": \"execute_result\"\n",
      "    }\n",
      "   ],\n",
      "   \"source\": [\n",
      "    \"y\"\n",
      "   ]\n",
      "  },\n",
      "  {\n",
      "   \"cell_type\": \"code\",\n",
      "   \"execution_count\": 22,\n",
      "   \"metadata\": {},\n",
      "   \"outputs\": [\n",
      "    {\n",
      "     \"name\": \"stdout\",\n",
      "     \"output_type\": \"stream\",\n",
      "     \"text\": [\n",
      "      \"lihi\\n\",\n",
      "      \"banana\\n\",\n",
      "      \"andgo\\n\"\n",
      "     ]\n",
      "    }\n",
      "   ],\n",
      "   \"source\": [\n",
      "    \"f=['lihi','banana','andgo']\\n\",\n",
      "    \"for i in f:\\n\",\n",
      "    \"    print(i)\"\n",
      "   ]\n",
      "  },\n",
      "  {\n",
      "   \"cell_type\": \"code\",\n",
      "   \"execution_count\": 23,\n",
      "   \"metadata\": {},\n",
      "   \"outputs\": [],\n",
      "   \"source\": [\n",
      "    \"w=\\\"python\\\"\\n\"\n",
      "   ]\n",
      "  },\n",
      "  {\n",
      "   \"cell_type\": \"code\",\n",
      "   \"execution_count\": 27,\n",
      "   \"metadata\": {},\n",
      "   \"outputs\": [\n",
      "    {\n",
      "     \"data\": {\n",
      "      \"text/plain\": [\n",
      "       \"'hython'\"\n",
      "      ]\n",
      "     },\n",
      "     \"execution_count\": 27,\n",
      "     \"metadata\": {},\n",
      "     \"output_type\": \"execute_result\"\n",
      "    }\n",
      "   ],\n",
      "   \"source\": [\n",
      "    \"w.replace('p','h')\"\n",
      "   ]\n",
      "  },\n",
      "  {\n",
      "   \"cell_type\": \"code\",\n",
      "   \"execution_count\": 28,\n",
      "   \"metadata\": {},\n",
      "   \"outputs\": [\n",
      "    {\n",
      "     \"name\": \"stdout\",\n",
      "     \"output_type\": \"stream\",\n",
      "     \"text\": [\n",
      "      \"['lihi', 'banana', 'andgo']\\n\"\n",
      "     ]\n",
      "    }\n",
      "   ],\n",
      "   \"source\": [\n",
      "    \"print(f)\"\n",
      "   ]\n",
      "  },\n",
      "  {\n",
      "   \"cell_type\": \"code\",\n",
      "   \"execution_count\": 29,\n",
      "   \"metadata\": {},\n",
      "   \"outputs\": [],\n",
      "   \"source\": [\n",
      "    \"f[0]=\\\"sweet\\\"\"\n",
      "   ]\n",
      "  },\n",
      "  {\n",
      "   \"cell_type\": \"code\",\n",
      "   \"execution_count\": 30,\n",
      "   \"metadata\": {},\n",
      "   \"outputs\": [\n",
      "    {\n",
      "     \"name\": \"stdout\",\n",
      "     \"output_type\": \"stream\",\n",
      "     \"text\": [\n",
      "      \"['sweet', 'banana', 'andgo']\\n\"\n",
      "     ]\n",
      "    }\n",
      "   ],\n",
      "   \"source\": [\n",
      "    \"print(f)#its string and tuple are inmutable\"\n",
      "   ]\n",
      "  },\n",
      "  {\n",
      "   \"cell_type\": \"code\",\n",
      "   \"execution_count\": 32,\n",
      "   \"metadata\": {},\n",
      "   \"outputs\": [\n",
      "    {\n",
      "     \"name\": \"stdout\",\n",
      "     \"output_type\": \"stream\",\n",
      "     \"text\": [\n",
      "      \"[0, 1, 2, 3, 4, 5, 6, 7, 8, 9]\\n\"\n",
      "     ]\n",
      "    }\n",
      "   ],\n",
      "   \"source\": [\n",
      "    \"d=list(range(10))\\n\",\n",
      "    \"print(d)\"\n",
      "   ]\n",
      "  },\n",
      "  {\n",
      "   \"cell_type\": \"code\",\n",
      "   \"execution_count\": 34,\n",
      "   \"metadata\": {},\n",
      "   \"outputs\": [\n",
      "    {\n",
      "     \"name\": \"stdout\",\n",
      "     \"output_type\": \"stream\",\n",
      "     \"text\": [\n",
      "      \"[10, 12, 14, 16, 18, 20, 22, 24, 26, 28, 30, 32, 34, 36, 38, 40, 42, 44, 46, 48]\\n\"\n",
      "     ]\n",
      "    }\n",
      "   ],\n",
      "   \"source\": [\n",
      "    \"u=list(range(10,50,2))\\n\",\n",
      "    \"print(u)\"\n",
      "   ]\n",
      "  },\n",
      "  {\n",
      "   \"cell_type\": \"code\",\n",
      "   \"execution_count\": 38,\n",
      "   \"metadata\": {},\n",
      "   \"outputs\": [\n",
      "    {\n",
      "     \"name\": \"stdout\",\n",
      "     \"output_type\": \"stream\",\n",
      "     \"text\": [\n",
      "      \"0 1 8 27 64 125 216 343 512 729 1000 \"\n",
      "     ]\n",
      "    }\n",
      "   ],\n",
      "   \"source\": [\n",
      "    \"t=list(range(11))\\n\",\n",
      "    \"for i in t:\\n\",\n",
      "    \"    print(i**3,end=\\\" \\\")\"\n",
      "   ]\n",
      "  },\n",
      "  {\n",
      "   \"cell_type\": \"code\",\n",
      "   \"execution_count\": 39,\n",
      "   \"metadata\": {},\n",
      "   \"outputs\": [\n",
      "    {\n",
      "     \"name\": \"stdout\",\n",
      "     \"output_type\": \"stream\",\n",
      "     \"text\": [\n",
      "      \"['wrtwrg', 'sd', '34', '5', '4']\\n\"\n",
      "     ]\n",
      "    }\n",
      "   ],\n",
      "   \"source\": [\n",
      "    \"#adding item append insert extend\\n\",\n",
      "    \"it=[]\\n\",\n",
      "    \"for i in range(5):\\n\",\n",
      "    \"    data=input(\\\"enter item\\\")\\n\",\n",
      "    \"    it.append(data)\\n\",\n",
      "    \"print(it)\"\n",
      "   ]\n",
      "  },\n",
      "  {\n",
      "   \"cell_type\": \"code\",\n",
      "   \"execution_count\": 4,\n",
      "   \"metadata\": {},\n",
      "   \"outputs\": [\n",
      "    {\n",
      "     \"name\": \"stdout\",\n",
      "     \"output_type\": \"stream\",\n",
      "     \"text\": [\n",
      "      \"['1', '2', '3', '4', '5']\\n\"\n",
      "     ]\n",
      "    }\n",
      "   ],\n",
      "   \"source\": [\n",
      "    \"y=[]\\n\",\n",
      "    \"for i in range(5):\\n\",\n",
      "    \"    r=input(\\\"enter\\\")\\n\",\n",
      "    \"    y.append(r)\\n\",\n",
      "    \"print(y)\"\n",
      "   ]\n",
      "  },\n",
      "  {\n",
      "   \"cell_type\": \"code\",\n",
      "   \"execution_count\": 5,\n",
      "   \"metadata\": {},\n",
      "   \"outputs\": [\n",
      "    {\n",
      "     \"name\": \"stdout\",\n",
      "     \"output_type\": \"stream\",\n",
      "     \"text\": [\n",
      "      \"7\\n\"\n",
      "     ]\n",
      "    }\n",
      "   ],\n",
      "   \"source\": [\n",
      "    \"q=[1,2,4]\\n\",\n",
      "    \"t=0\\n\",\n",
      "    \"for i in q:\\n\",\n",
      "    \"    t+=i\\n\",\n",
      "    \"print(t)\"\n",
      "   ]\n",
      "  },\n",
      "  {\n",
      "   \"cell_type\": \"code\",\n",
      "   \"execution_count\": 7,\n",
      "   \"metadata\": {},\n",
      "   \"outputs\": [],\n",
      "   \"source\": [\n",
      "    \"y=sum(q)\"\n",
      "   ]\n",
      "  },\n",
      "  {\n",
      "   \"cell_type\": \"code\",\n",
      "   \"execution_count\": 1,\n",
      "   \"metadata\": {},\n",
      "   \"outputs\": [\n",
      "    {\n",
      "     \"ename\": \"NameError\",\n",
      "     \"evalue\": \"name 'q' is not defined\",\n",
      "     \"output_type\": \"error\",\n",
      "     \"traceback\": [\n",
      "      \"\\u001b[1;31m---------------------------------------------------------------------------\\u001b[0m\",\n",
      "      \"\\u001b[1;31mNameError\\u001b[0m                                 Traceback (most recent call last)\",\n",
      "      \"\\u001b[1;32m<ipython-input-1-f2a5a07b28ab>\\u001b[0m in \\u001b[0;36m<module>\\u001b[1;34m()\\u001b[0m\\n\\u001b[1;32m----> 1\\u001b[1;33m \\u001b[0masa\\u001b[0m\\u001b[1;33m=\\u001b[0m\\u001b[0mmax\\u001b[0m\\u001b[1;33m(\\u001b[0m\\u001b[0mq\\u001b[0m\\u001b[1;33m)\\u001b[0m\\u001b[1;33m\\u001b[0m\\u001b[0m\\n\\u001b[0m\\u001b[0;32m      2\\u001b[0m \\u001b[0mprint\\u001b[0m\\u001b[1;33m(\\u001b[0m\\u001b[0masa\\u001b[0m\\u001b[1;33m)\\u001b[0m\\u001b[1;33m\\u001b[0m\\u001b[0m\\n\",\n",
      "      \"\\u001b[1;31mNameError\\u001b[0m: name 'q' is not defined\"\n",
      "     ]\n",
      "    }\n",
      "   ],\n",
      "   \"source\": [\n",
      "    \"\\n\",\n",
      "    \"asa=max(q)\\n\",\n",
      "    \"print(asa)\"\n",
      "   ]\n",
      "  },\n",
      "  {\n",
      "   \"cell_type\": \"code\",\n",
      "   \"execution_count\": 5,\n",
      "   \"metadata\": {},\n",
      "   \"outputs\": [\n",
      "    {\n",
      "     \"name\": \"stdout\",\n",
      "     \"output_type\": \"stream\",\n",
      "     \"text\": [\n",
      "      \"4 1\\n\"\n",
      "     ]\n",
      "    }\n",
      "   ],\n",
      "   \"source\": [\n",
      "    \"q=[1,2,4]\\n\",\n",
      "    \"print(max(q),min(q))\"\n",
      "   ]\n",
      "  },\n",
      "  {\n",
      "   \"cell_type\": \"code\",\n",
      "   \"execution_count\": 11,\n",
      "   \"metadata\": {},\n",
      "   \"outputs\": [\n",
      "    {\n",
      "     \"name\": \"stdout\",\n",
      "     \"output_type\": \"stream\",\n",
      "     \"text\": [\n",
      "      \"[1, 2, 5, 6, 9, 10]\\n\"\n",
      "     ]\n",
      "    }\n",
      "   ],\n",
      "   \"source\": [\n",
      "    \"#insert\\n\",\n",
      "    \"qw=[1,5,9,10]\\n\",\n",
      "    \"qw.insert(2,6)\\n\",\n",
      "    \"qw.insert(1,2)\\n\",\n",
      "    \"print(qw)\"\n",
      "   ]\n",
      "  },\n",
      "  {\n",
      "   \"cell_type\": \"code\",\n",
      "   \"execution_count\": 7,\n",
      "   \"metadata\": {},\n",
      "   \"outputs\": [\n",
      "    {\n",
      "     \"name\": \"stdout\",\n",
      "     \"output_type\": \"stream\",\n",
      "     \"text\": [\n",
      "      \"['asr', 'pro.p', 'weld', 'rogue', 'gamit']\\n\"\n",
      "     ]\n",
      "    }\n",
      "   ],\n",
      "   \"source\": [\n",
      "    \"qq=['pro.p','weld','rogue','gamit']\\n\",\n",
      "    \"qq.insert(0,'asr')\\n\",\n",
      "    \"print(qq)\"\n",
      "   ]\n",
      "  },\n",
      "  {\n",
      "   \"cell_type\": \"code\",\n",
      "   \"execution_count\": 8,\n",
      "   \"metadata\": {},\n",
      "   \"outputs\": [\n",
      "    {\n",
      "     \"data\": {\n",
      "      \"text/plain\": [\n",
      "       \"5\"\n",
      "      ]\n",
      "     },\n",
      "     \"execution_count\": 8,\n",
      "     \"metadata\": {},\n",
      "     \"output_type\": \"execute_result\"\n",
      "    }\n",
      "   ],\n",
      "   \"source\": [\n",
      "    \"len(qq)\"\n",
      "   ]\n",
      "  },\n",
      "  {\n",
      "   \"cell_type\": \"code\",\n",
      "   \"execution_count\": 12,\n",
      "   \"metadata\": {},\n",
      "   \"outputs\": [\n",
      "    {\n",
      "     \"name\": \"stdout\",\n",
      "     \"output_type\": \"stream\",\n",
      "     \"text\": [\n",
      "      \"['asr', 'pro.p', 'weld', 'rogue', 'gamit', 'ironman', 'hulk', 'thanos', 'blackwidow', 'gaf']\\n\"\n",
      "     ]\n",
      "    }\n",
      "   ],\n",
      "   \"source\": [\n",
      "    \"a=['ironman','hulk','thanos','blackwidow','gaf']\\n\",\n",
      "    \"qq.extend(a)\\n\",\n",
      "    \"print(qq)\"\n",
      "   ]\n",
      "  },\n",
      "  {\n",
      "   \"cell_type\": \"code\",\n",
      "   \"execution_count\": 13,\n",
      "   \"metadata\": {},\n",
      "   \"outputs\": [],\n",
      "   \"source\": [\n",
      "    \"#remove remove pop\"\n",
      "   ]\n",
      "  },\n",
      "  {\n",
      "   \"cell_type\": \"code\",\n",
      "   \"execution_count\": 14,\n",
      "   \"metadata\": {},\n",
      "   \"outputs\": [\n",
      "    {\n",
      "     \"name\": \"stdout\",\n",
      "     \"output_type\": \"stream\",\n",
      "     \"text\": [\n",
      "      \"['pro.p', 'weld', 'rogue', 'gamit', 'ironman', 'hulk', 'thanos', 'blackwidow', 'gaf']\\n\"\n",
      "     ]\n",
      "    }\n",
      "   ],\n",
      "   \"source\": [\n",
      "    \"qq.remove('asr')\\n\",\n",
      "    \"print(qq)\"\n",
      "   ]\n",
      "  },\n",
      "  {\n",
      "   \"cell_type\": \"code\",\n",
      "   \"execution_count\": 16,\n",
      "   \"metadata\": {},\n",
      "   \"outputs\": [\n",
      "    {\n",
      "     \"name\": \"stdout\",\n",
      "     \"output_type\": \"stream\",\n",
      "     \"text\": [\n",
      "      \"['pro.p', 'weld', 'rogue', 'gamit', 'ironman', 'hulk', 'thanos']\\n\"\n",
      "     ]\n",
      "    }\n",
      "   ],\n",
      "   \"source\": [\n",
      "    \"qq.pop()\\n\",\n",
      "    \"print(qq)\"\n",
      "   ]\n",
      "  },\n",
      "  {\n",
      "   \"cell_type\": \"code\",\n",
      "   \"execution_count\": 32,\n",
      "   \"metadata\": {},\n",
      "   \"outputs\": [\n",
      "    {\n",
      "     \"name\": \"stdout\",\n",
      "     \"output_type\": \"stream\",\n",
      "     \"text\": [\n",
      "      \"['pro.p', 'weld', 'rogue', 'gamit', 'ironman', 'hulk', 'thanos', 'ajay', 'ajay']\\n\"\n",
      "     ]\n",
      "    }\n",
      "   ],\n",
      "   \"source\": [\n",
      "    \"qq.append('ajay')\\n\",\n",
      "    \"qq.append('ajay')\\n\",\n",
      "    \"print(qq)\"\n",
      "   ]\n",
      "  },\n",
      "  {\n",
      "   \"cell_type\": \"code\",\n",
      "   \"execution_count\": 33,\n",
      "   \"metadata\": {},\n",
      "   \"outputs\": [\n",
      "    {\n",
      "     \"name\": \"stdout\",\n",
      "     \"output_type\": \"stream\",\n",
      "     \"text\": [\n",
      "      \"['pro.p', 'weld', 'rogue', 'gamit', 'ironman', 'hulk', 'thanos', 'ajay']\\n\"\n",
      "     ]\n",
      "    }\n",
      "   ],\n",
      "   \"source\": [\n",
      "    \"qq.remove('ajay')\\n\",\n",
      "    \"print(qq)\\n\"\n",
      "   ]\n",
      "  },\n",
      "  {\n",
      "   \"cell_type\": \"code\",\n",
      "   \"execution_count\": 34,\n",
      "   \"metadata\": {},\n",
      "   \"outputs\": [\n",
      "    {\n",
      "     \"name\": \"stdout\",\n",
      "     \"output_type\": \"stream\",\n",
      "     \"text\": [\n",
      "      \"['pro.p', 'weld', 'rogue', 'gamit', 'ironman', 'hulk', 'thanos']\\n\"\n",
      "     ]\n",
      "    }\n",
      "   ],\n",
      "   \"source\": [\n",
      "    \"qq.remove('ajay')\\n\",\n",
      "    \"print(qq)\"\n",
      "   ]\n",
      "  },\n",
      "  {\n",
      "   \"cell_type\": \"code\",\n",
      "   \"execution_count\": 35,\n",
      "   \"metadata\": {},\n",
      "   \"outputs\": [\n",
      "    {\n",
      "     \"data\": {\n",
      "      \"text/plain\": [\n",
      "       \"'pro.p'\"\n",
      "      ]\n",
      "     },\n",
      "     \"execution_count\": 35,\n",
      "     \"metadata\": {},\n",
      "     \"output_type\": \"execute_result\"\n",
      "    }\n",
      "   ],\n",
      "   \"source\": [\n",
      "    \"qq.pop(0)\"\n",
      "   ]\n",
      "  },\n",
      "  {\n",
      "   \"cell_type\": \"code\",\n",
      "   \"execution_count\": 36,\n",
      "   \"metadata\": {},\n",
      "   \"outputs\": [\n",
      "    {\n",
      "     \"name\": \"stdout\",\n",
      "     \"output_type\": \"stream\",\n",
      "     \"text\": [\n",
      "      \"['weld', 'rogue', 'gamit', 'ironman', 'hulk', 'thanos']\\n\"\n",
      "     ]\n",
      "    }\n",
      "   ],\n",
      "   \"source\": [\n",
      "    \"print(qq)\"\n",
      "   ]\n",
      "  },\n",
      "  {\n",
      "   \"cell_type\": \"code\",\n",
      "   \"execution_count\": 37,\n",
      "   \"metadata\": {},\n",
      "   \"outputs\": [\n",
      "    {\n",
      "     \"name\": \"stdout\",\n",
      "     \"output_type\": \"stream\",\n",
      "     \"text\": [\n",
      "      \"['weld', 'gamit', 'ironman', 'hulk', 'thanos']\\n\"\n",
      "     ]\n",
      "    }\n",
      "   ],\n",
      "   \"source\": [\n",
      "    \"qq.pop(1)\\n\",\n",
      "    \"print(qq)\"\n",
      "   ]\n",
      "  },\n",
      "  {\n",
      "   \"cell_type\": \"code\",\n",
      "   \"execution_count\": 39,\n",
      "   \"metadata\": {},\n",
      "   \"outputs\": [\n",
      "    {\n",
      "     \"name\": \"stdout\",\n",
      "     \"output_type\": \"stream\",\n",
      "     \"text\": [\n",
      "      \"this will win\\n\"\n",
      "     ]\n",
      "    }\n",
      "   ],\n",
      "   \"source\": [\n",
      "    \"if 'weld' in qq:\\n\",\n",
      "    \"    print(\\\"this will win\\\")\\n\",\n",
      "    \"else:\\n\",\n",
      "    \"    print(\\\"they loose\\\")\"\n",
      "   ]\n",
      "  },\n",
      "  {\n",
      "   \"cell_type\": \"code\",\n",
      "   \"execution_count\": 40,\n",
      "   \"metadata\": {},\n",
      "   \"outputs\": [\n",
      "    {\n",
      "     \"name\": \"stdout\",\n",
      "     \"output_type\": \"stream\",\n",
      "     \"text\": [\n",
      "      \"notfound\\n\"\n",
      "     ]\n",
      "    }\n",
      "   ],\n",
      "   \"source\": [\n",
      "    \"if 'as' in qq:\\n\",\n",
      "    \"    qq.remove(weld)\\n\",\n",
      "    \"else:\\n\",\n",
      "    \"    print(\\\"notfound\\\")\"\n",
      "   ]\n",
      "  },\n",
      "  {\n",
      "   \"cell_type\": \"code\",\n",
      "   \"execution_count\": 41,\n",
      "   \"metadata\": {},\n",
      "   \"outputs\": [\n",
      "    {\n",
      "     \"name\": \"stdout\",\n",
      "     \"output_type\": \"stream\",\n",
      "     \"text\": [\n",
      "      \"['gamit', 'hulk', 'ironman', 'thanos', 'weld']\\n\"\n",
      "     ]\n",
      "    }\n",
      "   ],\n",
      "   \"source\": [\n",
      "    \"qq.sort()\\n\",\n",
      "    \"print(qq)\"\n",
      "   ]\n",
      "  },\n",
      "  {\n",
      "   \"cell_type\": \"code\",\n",
      "   \"execution_count\": 46,\n",
      "   \"metadata\": {},\n",
      "   \"outputs\": [\n",
      "    {\n",
      "     \"name\": \"stdout\",\n",
      "     \"output_type\": \"stream\",\n",
      "     \"text\": [\n",
      "      \"['tag', 'sad', 'fat', 'hat', 'bat']\\n\"\n",
      "     ]\n",
      "    }\n",
      "   ],\n",
      "   \"source\": [\n",
      "    \"n=[\\\"bat\\\",\\\"hat\\\",\\\"fat\\\",\\\"sad\\\",\\\"tag\\\"]\\n\",\n",
      "    \"n.reverse()\\n\",\n",
      "    \"print(n)\"\n",
      "   ]\n",
      "  },\n",
      "  {\n",
      "   \"cell_type\": \"code\",\n",
      "   \"execution_count\": 48,\n",
      "   \"metadata\": {},\n",
      "   \"outputs\": [\n",
      "    {\n",
      "     \"data\": {\n",
      "      \"text/plain\": [\n",
      "       \"4\"\n",
      "      ]\n",
      "     },\n",
      "     \"execution_count\": 48,\n",
      "     \"metadata\": {},\n",
      "     \"output_type\": \"execute_result\"\n",
      "    }\n",
      "   ],\n",
      "   \"source\": [\n",
      "    \"klr=['r','y','g','b','p','b']\\n\",\n",
      "    \"klr.index('p')\"\n",
      "   ]\n",
      "  },\n",
      "  {\n",
      "   \"cell_type\": \"code\",\n",
      "   \"execution_count\": 49,\n",
      "   \"metadata\": {},\n",
      "   \"outputs\": [\n",
      "    {\n",
      "     \"data\": {\n",
      "      \"text/plain\": [\n",
      "       \"2\"\n",
      "      ]\n",
      "     },\n",
      "     \"execution_count\": 49,\n",
      "     \"metadata\": {},\n",
      "     \"output_type\": \"execute_result\"\n",
      "    }\n",
      "   ],\n",
      "   \"source\": [\n",
      "    \"klr.count('b')\"\n",
      "   ]\n",
      "  },\n",
      "  {\n",
      "   \"cell_type\": \"markdown\",\n",
      "   \"metadata\": {},\n",
      "   \"source\": [\n",
      "    \"# wap to allow a student to enter his marks of six sub in a list and store the avg sum min max stand dev\"\n",
      "   ]\n",
      "  },\n",
      "  {\n",
      "   \"cell_type\": \"code\",\n",
      "   \"execution_count\": 5,\n",
      "   \"metadata\": {},\n",
      "   \"outputs\": [\n",
      "    {\n",
      "     \"name\": \"stdout\",\n",
      "     \"output_type\": \"stream\",\n",
      "     \"text\": [\n",
      "      \"[2, 4, 5, 6, 1, 2, 4]\\n\"\n",
      "     ]\n",
      "    }\n",
      "   ],\n",
      "   \"source\": [\n",
      "    \"aa=[]\\n\",\n",
      "    \"t=0\\n\",\n",
      "    \"for i in range(7):\\n\",\n",
      "    \"    d=int(input('enter'))\\n\",\n",
      "    \"    aa.append(d)\\n\",\n",
      "    \"    t+=d\\n\",\n",
      "    \"print(aa)\"\n",
      "   ]\n",
      "  },\n",
      "  {\n",
      "   \"cell_type\": \"code\",\n",
      "   \"execution_count\": 6,\n",
      "   \"metadata\": {},\n",
      "   \"outputs\": [\n",
      "    {\n",
      "     \"name\": \"stdout\",\n",
      "     \"output_type\": \"stream\",\n",
      "     \"text\": [\n",
      "      \"24\\n\"\n",
      "     ]\n",
      "    }\n",
      "   ],\n",
      "   \"source\": [\n",
      "    \"print(t)\"\n",
      "   ]\n",
      "  },\n",
      "  {\n",
      "   \"cell_type\": \"code\",\n",
      "   \"execution_count\": 7,\n",
      "   \"metadata\": {},\n",
      "   \"outputs\": [\n",
      "    {\n",
      "     \"data\": {\n",
      "      \"text/plain\": [\n",
      "       \"6\"\n",
      "      ]\n",
      "     },\n",
      "     \"execution_count\": 7,\n",
      "     \"metadata\": {},\n",
      "     \"output_type\": \"execute_result\"\n",
      "    }\n",
      "   ],\n",
      "   \"source\": [\n",
      "    \"max(aa)\"\n",
      "   ]\n",
      "  },\n",
      "  {\n",
      "   \"cell_type\": \"code\",\n",
      "   \"execution_count\": 8,\n",
      "   \"metadata\": {},\n",
      "   \"outputs\": [\n",
      "    {\n",
      "     \"data\": {\n",
      "      \"text/plain\": [\n",
      "       \"1\"\n",
      "      ]\n",
      "     },\n",
      "     \"execution_count\": 8,\n",
      "     \"metadata\": {},\n",
      "     \"output_type\": \"execute_result\"\n",
      "    }\n",
      "   ],\n",
      "   \"source\": [\n",
      "    \"min(aa)\"\n",
      "   ]\n",
      "  },\n",
      "  {\n",
      "   \"cell_type\": \"code\",\n",
      "   \"execution_count\": 9,\n",
      "   \"metadata\": {},\n",
      "   \"outputs\": [\n",
      "    {\n",
      "     \"name\": \"stdout\",\n",
      "     \"output_type\": \"stream\",\n",
      "     \"text\": [\n",
      "      \"avg= 3.4285714285714284\\n\"\n",
      "     ]\n",
      "    }\n",
      "   ],\n",
      "   \"source\": [\n",
      "    \"p=t/7\\n\",\n",
      "    \"print(\\\"avg=\\\",p)\"\n",
      "   ]\n",
      "  },\n",
      "  {\n",
      "   \"cell_type\": \"code\",\n",
      "   \"execution_count\": 11,\n",
      "   \"metadata\": {},\n",
      "   \"outputs\": [\n",
      "    {\n",
      "     \"name\": \"stdout\",\n",
      "     \"output_type\": \"stream\",\n",
      "     \"text\": [\n",
      "      \"The SD is= 12.428571428571427\\n\"\n",
      "     ]\n",
      "    }\n",
      "   ],\n",
      "   \"source\": [\n",
      "    \"l=0\\n\",\n",
      "    \"for i in range(7):\\n\",\n",
      "    \"    k=i-p\\n\",\n",
      "    \"    k=k**2\\n\",\n",
      "    \"    l+=k**0.5\\n\",\n",
      "    \"print(\\\"The SD is=\\\",l)     \"\n",
      "   ]\n",
      "  },\n",
      "  {\n",
      "   \"cell_type\": \"code\",\n",
      "   \"execution_count\": 13,\n",
      "   \"metadata\": {},\n",
      "   \"outputs\": [\n",
      "    {\n",
      "     \"name\": \"stdout\",\n",
      "     \"output_type\": \"stream\",\n",
      "     \"text\": [\n",
      "      \"sdf\\n\",\n",
      "      \"asfs\\n\",\n",
      "      \"fgf\\n\"\n",
      "     ]\n",
      "    }\n",
      "   ],\n",
      "   \"source\": [\n",
      "    \"a=['sdf','asfs','fgf']\\n\",\n",
      "    \"for i in range(3):\\n\",\n",
      "    \"    print(a[i])\"\n",
      "   ]\n",
      "  },\n",
      "  {\n",
      "   \"cell_type\": \"code\",\n",
      "   \"execution_count\": null,\n",
      "   \"metadata\": {},\n",
      "   \"outputs\": [],\n",
      "   \"source\": []\n",
      "  }\n",
      " ],\n",
      " \"metadata\": {\n",
      "  \"kernelspec\": {\n",
      "   \"display_name\": \"Python 3\",\n",
      "   \"language\": \"python\",\n",
      "   \"name\": \"python3\"\n",
      "  },\n",
      "  \"language_info\": {\n",
      "   \"codemirror_mode\": {\n",
      "    \"name\": \"ipython\",\n",
      "    \"version\": 3\n",
      "   },\n",
      "   \"file_extension\": \".py\",\n",
      "   \"mimetype\": \"text/x-python\",\n",
      "   \"name\": \"python\",\n",
      "   \"nbconvert_exporter\": \"python\",\n",
      "   \"pygments_lexer\": \"ipython3\",\n",
      "   \"version\": \"3.6.5\"\n",
      "  }\n",
      " },\n",
      " \"nbformat\": 4,\n",
      " \"nbformat_minor\": 2\n",
      "}\n",
      "\n"
     ]
    }
   ],
   "source": [
    "f=open('DataStList.ipynb')\n",
    "data =f.read()\n",
    "f.close()\n",
    "print(data)"
   ]
  },
  {
   "cell_type": "code",
   "execution_count": 4,
   "metadata": {},
   "outputs": [],
   "source": [
    "file=open('planets',\"w\")\n",
    "file.write('mercury')\n",
    "file.close()"
   ]
  },
  {
   "cell_type": "code",
   "execution_count": 8,
   "metadata": {},
   "outputs": [
    {
     "name": "stdout",
     "output_type": "stream",
     "text": [
      "<_io.TextIOWrapper name='planets' mode='w' encoding='cp1252'>\n"
     ]
    }
   ],
   "source": [
    "print(file)"
   ]
  },
  {
   "cell_type": "code",
   "execution_count": 10,
   "metadata": {},
   "outputs": [
    {
     "name": "stdout",
     "output_type": "stream",
     "text": [
      "<_io.TextIOWrapper name='FileEssay' mode='w' encoding='cp1252'>\n"
     ]
    }
   ],
   "source": [
    "#wap to allow user tocreate a file and save essay\n",
    "file=open('FileEssay',\"w\")\n",
    "file.write('sfghwhgkjekuyfusyhdufhwisdhfkjshdjjshfghjlfhgjdfhjldjlnbjldjbijdflbnljdnbjldnkjbnkjdnbdbn')\n",
    "file.close()\n",
    "print(file)"
   ]
  },
  {
   "cell_type": "code",
   "execution_count": 12,
   "metadata": {},
   "outputs": [
    {
     "name": "stdout",
     "output_type": "stream",
     "text": [
      "sfghwhgkjekuyfusyhdufhwisdhfkjshdjjshfghjlfhgjdfhjldjlnbjldjbijdflbnljdnbjldnkjbnkjdnbdbn\n"
     ]
    }
   ],
   "source": [
    "f=open('FileEssay')\n",
    "data=f.read()\n",
    "print(data)"
   ]
  },
  {
   "cell_type": "code",
   "execution_count": 4,
   "metadata": {},
   "outputs": [
    {
     "data": {
      "text/plain": [
       "'Im Ajay Kumar\\nIm silent killer\\nIm CS student\\nMy hometown is Lucknow\\nIm Ajay Kumar\\nIm silent killer\\nIm CS student\\nMy hometown is Lucknow\\nMy DOB is 4/7/1996\\nIm CS student\\nMy hometown is Lucknow\\nMy DOB is 4/7/1996\\n'"
      ]
     },
     "execution_count": 4,
     "metadata": {},
     "output_type": "execute_result"
    }
   ],
   "source": [
    "f=open(\"C:\\\\Users\\\\ajayk\\\\OneDrive\\\\Desktop\\\\asd.txt\")\n",
    "f.read()"
   ]
  },
  {
   "cell_type": "code",
   "execution_count": 6,
   "metadata": {},
   "outputs": [
    {
     "name": "stdout",
     "output_type": "stream",
     "text": [
      "<_io.TextIOWrapper name='red' mode='w' encoding='cp1252'>\n"
     ]
    }
   ],
   "source": [
    "qw=open(\"red\",\"w\")\n",
    "qw.write(\"Im Ajay Kumar\\nIm silent killer\\nIm CS student\\nMy hometown is Lucknow\\nIm Ajay Kumar\\nIm silent killer\\nIm CS student\\nMy hometown is Lucknow\\nMy\")\n",
    "qw.close()\n",
    "print(qw)"
   ]
  },
  {
   "cell_type": "code",
   "execution_count": 7,
   "metadata": {},
   "outputs": [
    {
     "data": {
      "text/plain": [
       "'Im Ajay Kumar\\nIm silent killer\\nIm CS student\\nMy hometown is Lucknow\\nIm Ajay Kumar\\nIm silent killer\\nIm CS student\\nMy hometown is Lucknow\\nMy'"
      ]
     },
     "execution_count": 7,
     "metadata": {},
     "output_type": "execute_result"
    }
   ],
   "source": [
    "qw=open('red')\n",
    "qw.read()"
   ]
  },
  {
   "cell_type": "code",
   "execution_count": 2,
   "metadata": {},
   "outputs": [
    {
     "data": {
      "text/plain": [
       "'C:\\\\Users\\\\ajayk'"
      ]
     },
     "execution_count": 2,
     "metadata": {},
     "output_type": "execute_result"
    }
   ],
   "source": [
    "import os\n",
    "import shutil as sh\n",
    "os.getcwd()"
   ]
  },
  {
   "cell_type": "code",
   "execution_count": 15,
   "metadata": {},
   "outputs": [],
   "source": [
    "f=open('info.txt',\"a\")\n",
    "f.write(\"this is a superfile\")\n",
    "f.close()"
   ]
  },
  {
   "cell_type": "code",
   "execution_count": 25,
   "metadata": {},
   "outputs": [],
   "source": [
    "tr=open(\"info.txt\").read()"
   ]
  },
  {
   "cell_type": "code",
   "execution_count": 24,
   "metadata": {},
   "outputs": [
    {
     "name": "stdout",
     "output_type": "stream",
     "text": [
      "this is a superfilethis is a superfilethis is a superfilethis is a superfilethis is a superfile\n"
     ]
    }
   ],
   "source": [
    "print(tr)"
   ]
  },
  {
   "cell_type": "code",
   "execution_count": 28,
   "metadata": {},
   "outputs": [
    {
     "data": {
      "text/plain": [
       "'this is a super is a super is a super is a super is a superfile'"
      ]
     },
     "execution_count": 28,
     "metadata": {},
     "output_type": "execute_result"
    }
   ],
   "source": [
    "tr.replace('superfilethis','super')\n",
    "    "
   ]
  },
  {
   "cell_type": "code",
   "execution_count": 30,
   "metadata": {},
   "outputs": [
    {
     "name": "stdout",
     "output_type": "stream",
     "text": [
      "this is a superfilethis is a superfilethis is a superfilethis is a superfilethis is a superfile\n"
     ]
    }
   ],
   "source": [
    "with open(\"info.txt\") as file:\n",
    "    d=file.read()\n",
    "    print(d)"
   ]
  },
  {
   "cell_type": "code",
   "execution_count": 31,
   "metadata": {},
   "outputs": [
    {
     "name": "stdout",
     "output_type": "stream",
     "text": [
      "file saved\n"
     ]
    }
   ],
   "source": [
    "with open(\"info.txt\",\"w\") as file:\n",
    "    data=input(\">>\")\n",
    "    file.write(data)\n",
    "    print('file saved')"
   ]
  },
  {
   "cell_type": "code",
   "execution_count": 32,
   "metadata": {},
   "outputs": [
    {
     "name": "stdout",
     "output_type": "stream",
     "text": [
      "done\n"
     ]
    }
   ],
   "source": [
    "with open(\"info.txt\",\"a\") as file:\n",
    "    data=input(\">>\")\n",
    "    file.write(data)\n",
    "    print(\"done\")"
   ]
  },
  {
   "cell_type": "code",
   "execution_count": 33,
   "metadata": {},
   "outputs": [
    {
     "data": {
      "text/plain": [
       "'im kingasdfasf'"
      ]
     },
     "execution_count": 33,
     "metadata": {},
     "output_type": "execute_result"
    }
   ],
   "source": [
    "open('info.txt').read()"
   ]
  },
  {
   "cell_type": "code",
   "execution_count": 34,
   "metadata": {},
   "outputs": [
    {
     "name": "stdout",
     "output_type": "stream",
     "text": [
      "saved\n"
     ]
    }
   ],
   "source": [
    "with open(\"data.txt\",\"a\") as file:\n",
    "    while True:\n",
    "        data=input(\"press enter to exit: \")\n",
    "        if data:\n",
    "            file.write(data+\"\\n\")\n",
    "        else:\n",
    "            print(\"saved\")\n",
    "            break\n",
    "        "
   ]
  },
  {
   "cell_type": "code",
   "execution_count": 35,
   "metadata": {},
   "outputs": [
    {
     "data": {
      "text/plain": [
       "'drgd\\nsdg\\nsdg\\n'"
      ]
     },
     "execution_count": 35,
     "metadata": {},
     "output_type": "execute_result"
    }
   ],
   "source": [
    "open('data.txt').read()"
   ]
  },
  {
   "cell_type": "code",
   "execution_count": 46,
   "metadata": {},
   "outputs": [
    {
     "name": "stdout",
     "output_type": "stream",
     "text": [
      "saved\n"
     ]
    }
   ],
   "source": [
    "#wap to store ur expenditure ina file\n",
    "with open(\"exp.txt\",\"a\") as file:\n",
    "    while True:\n",
    "        date=input(\"enterdate: \")\n",
    "        ds=input(\"entermonth: \")\n",
    "        ite=input(\"enter item: \")\n",
    "        qw=input(\"enter quan\")\n",
    "        pr=input(\"enter price\")\n",
    "        \n",
    "        if date and ds and ite and qw and pr:\n",
    "            file.write(date+\" \"+ds+\" \"+ite+\" \"+qw+\" \"+pr+\" \"+'\\n')\n",
    "        else:\n",
    "            print(\"saved\")\n",
    "            break\n",
    "                 "
   ]
  },
  {
   "cell_type": "code",
   "execution_count": 48,
   "metadata": {},
   "outputs": [
    {
     "name": "stdout",
     "output_type": "stream",
     "text": [
      "sdfsdfsdfsdf\n",
      "jansugar5kg160\n",
      "febbutter4kg600\n",
      "12 jan sugar 4kg 21 \n",
      "23 feb butter 3kg 600 \n",
      "\n"
     ]
    }
   ],
   "source": [
    "print(open(\"exp.txt\").read())"
   ]
  },
  {
   "cell_type": "code",
   "execution_count": null,
   "metadata": {},
   "outputs": [
    {
     "name": "stdout",
     "output_type": "stream",
     "text": [
      "enterdaydatenonthprie\n"
     ]
    }
   ],
   "source": [
    "with open(\"e.txt\",\"w\") as file:\n",
    "    print(\"enterdaydatenonthprie\")\n",
    "    while True:\n",
    "    d=input(\"date:\")\n",
    "    n=input(\"nonth\")\n",
    "    p=input(\"prie\")\n",
    "    \n",
    "        if d and n and p:\n",
    "            file.write(f\"{d}\\t{n}\\t{p}\\n\")\n",
    "        else:\n",
    "            print(\"done\")\n",
    "            break"
   ]
  },
  {
   "cell_type": "code",
   "execution_count": 5,
   "metadata": {},
   "outputs": [],
   "source": [
    "import os"
   ]
  },
  {
   "cell_type": "code",
   "execution_count": 7,
   "metadata": {},
   "outputs": [
    {
     "data": {
      "text/plain": [
       "False"
      ]
     },
     "execution_count": 7,
     "metadata": {},
     "output_type": "execute_result"
    }
   ],
   "source": [
    "os.path.exists(\"o:/\")"
   ]
  },
  {
   "cell_type": "code",
   "execution_count": 9,
   "metadata": {},
   "outputs": [
    {
     "data": {
      "text/plain": [
       "True"
      ]
     },
     "execution_count": 9,
     "metadata": {},
     "output_type": "execute_result"
    }
   ],
   "source": [
    "os.path.exists(\"c:/\")"
   ]
  },
  {
   "cell_type": "code",
   "execution_count": 10,
   "metadata": {},
   "outputs": [
    {
     "data": {
      "text/plain": [
       "True"
      ]
     },
     "execution_count": 10,
     "metadata": {},
     "output_type": "execute_result"
    }
   ],
   "source": [
    "os.path.exists(\"exp.txt\")"
   ]
  },
  {
   "cell_type": "code",
   "execution_count": 11,
   "metadata": {},
   "outputs": [
    {
     "data": {
      "text/plain": [
       "False"
      ]
     },
     "execution_count": 11,
     "metadata": {},
     "output_type": "execute_result"
    }
   ],
   "source": [
    "os.path.exists(\"asd.txt\")"
   ]
  },
  {
   "cell_type": "code",
   "execution_count": 13,
   "metadata": {},
   "outputs": [
    {
     "data": {
      "text/plain": [
       "True"
      ]
     },
     "execution_count": 13,
     "metadata": {},
     "output_type": "execute_result"
    }
   ],
   "source": [
    "os.path.isfile(\"exp.txt\")"
   ]
  },
  {
   "cell_type": "code",
   "execution_count": 14,
   "metadata": {},
   "outputs": [
    {
     "data": {
      "text/plain": [
       "False"
      ]
     },
     "execution_count": 14,
     "metadata": {},
     "output_type": "execute_result"
    }
   ],
   "source": [
    "os.path.isdir(\"exp.txt\")"
   ]
  },
  {
   "cell_type": "code",
   "execution_count": 16,
   "metadata": {},
   "outputs": [
    {
     "name": "stdout",
     "output_type": "stream",
     "text": [
      "Is Directory\n"
     ]
    }
   ],
   "source": [
    "addr=input(\"enterfileadddress\")\n",
    "if os.path.exists(addr):\n",
    "    if os.path.isdir(addr):\n",
    "        print(\"Is Directory\")\n",
    "    elif os.path.isfile(addr):\n",
    "        print(\"Is file very good\")\n",
    "    else:\n",
    "        print(\"invalid type\")\n",
    "else:\n",
    "    print(\"invalid address\")\n",
    "    "
   ]
  },
  {
   "cell_type": "code",
   "execution_count": 7,
   "metadata": {},
   "outputs": [
    {
     "name": "stdout",
     "output_type": "stream",
     "text": [
      "12 jan sugar 4kg 21 \n",
      "23 feb butter 3kg 600 \n",
      "4 july drink 7kg 500 \n",
      "20 feb sfg 5kg 600 \n",
      "2 jan df 4kg 100 \n",
      "\n"
     ]
    }
   ],
   "source": [
    "print(open(\"exp.txt\").read())"
   ]
  },
  {
   "cell_type": "code",
   "execution_count": 21,
   "metadata": {},
   "outputs": [
    {
     "name": "stdout",
     "output_type": "stream",
     "text": [
      "12 jan sugar 4kg 21 \n",
      "20\n",
      "the spae from rightside is: 102\n",
      "[]\n"
     ]
    }
   ],
   "source": [
    "#wap to read the  price from saved file and useit\n",
    "wee=[]\n",
    "i=0\n",
    "str=open(\"exp.txt\").read()\n",
    "if '\\n' in open(\"exp.txt\").read():\n",
    "    i=str.index('\\n')\n",
    "    print(str[:20])\n",
    "    k=str.rfind(' ')\n",
    "    print(i)\n",
    "    print(\"the spae from rightside is:\",k)\n",
    "    if i==3:\n",
    "        print(\"wrkng\")\n",
    "        \n",
    "print(wee)\n",
    "    "
   ]
  },
  {
   "cell_type": "code",
   "execution_count": 2,
   "metadata": {},
   "outputs": [
    {
     "name": "stdout",
     "output_type": "stream",
     "text": [
      "sdfsdfsdfsdf\n",
      "jansugar5kg160\n",
      "febbutter4kg600\n",
      "12 jan sugar 4kg 21 \n",
      "23 feb butter 3kg 600 \n",
      "4 july drink 7 500 \n",
      "25 feb lays 5 50 \n",
      "\n"
     ]
    }
   ],
   "source": [
    "print(open(\"exp.txt\").read())"
   ]
  },
  {
   "cell_type": "code",
   "execution_count": 2,
   "metadata": {},
   "outputs": [
    {
     "name": "stdout",
     "output_type": "stream",
     "text": [
      "saved\n"
     ]
    }
   ],
   "source": [
    "prr=[]\n",
    "with open(\"exp.txt\",\"a\") as file:\n",
    "    while True:\n",
    "        date=input(\"enterdate: \")\n",
    "        ds=input(\"entermonth: \")\n",
    "        ite=input(\"enter item: \")\n",
    "        qw=input(\"enter quan\")\n",
    "        pr=input(\"enter price\")\n",
    "        ty=int(pr)\n",
    "        prr.append(ty)\n",
    "        if date and ds and ite and qw and pr:\n",
    "            file.write(date+\" \"+ds+\" \"+ite+\" \"+qw+\" \"+pr+\" \"+'\\n')\n",
    "        else:\n",
    "            print(\"saved\")\n",
    "            break"
   ]
  },
  {
   "cell_type": "code",
   "execution_count": 6,
   "metadata": {},
   "outputs": [
    {
     "name": "stdout",
     "output_type": "stream",
     "text": [
      "12 jan sugar 4kg 21 \n",
      "23 feb butter 3kg 600 \n",
      "4 july drink 7kg 500 \n",
      "20 feb sfg 5kg 600 \n",
      "2 jan df 4kg 100 \n",
      "\n",
      "['600', '100', '']\n"
     ]
    }
   ],
   "source": [
    "print(open(\"exp.txt\").read())\n",
    "print(prr)"
   ]
  },
  {
   "cell_type": "code",
   "execution_count": 2,
   "metadata": {},
   "outputs": [
    {
     "name": "stdout",
     "output_type": "stream",
     "text": [
      "saved\n"
     ]
    }
   ],
   "source": [
    "### prr=[]\n",
    "with open(\"exp.txt\",\"a\") as file:\n",
    "    while True:\n",
    "        date=input(\"enterdate: \")\n",
    "        ds=input(\"entermonth: \")\n",
    "        ite=input(\"enter item: \")\n",
    "        qw=input(\"enter quan\")\n",
    "        pr=input(\"enter price\")\n",
    "        if date and ds and ite and qw and pr:\n",
    "            file.write(f'{date}\\t{ds}\\t{ite}\\t{qw}\\t{pr}\\n')\n",
    "        else:\n",
    "            print(\"saved\")\n",
    "            break\n",
    "\n"
   ]
  },
  {
   "cell_type": "code",
   "execution_count": null,
   "metadata": {},
   "outputs": [],
   "source": [
    "ite=[]\n",
    "with open(\"exp.txt\") as file:\n",
    "    while True:\n",
    "        data=file.readlines()\n",
    "        tot=0\n",
    "        for line in data:\n",
    "            ite=line.split('\\t')\n",
    "            print(ite)\n",
    "            if len(ite)==4:\n",
    "                tot=tot+float[ite[5]]\n",
    "    \n",
    "    print(tot)"
   ]
  },
  {
   "cell_type": "code",
   "execution_count": null,
   "metadata": {},
   "outputs": [],
   "source": [
    "#wap to create generate randombtw 1-6\n",
    "import random\n",
    "for i in range(3):\n",
    "    p=random.randint(1,6)\n",
    "    print(p)\n",
    "    \n"
   ]
  },
  {
   "cell_type": "code",
   "execution_count": null,
   "metadata": {},
   "outputs": [],
   "source": [
    "#wap to replace all capital letters with smallletters and save in file\n",
    "with open(\"data.txt\",\"w\") as file:\n",
    "    p=open(\"exp.txt\").read()\n",
    "    t=p.lower()\n",
    "    \n",
    "print(t)"
   ]
  },
  {
   "cell_type": "code",
   "execution_count": 2,
   "metadata": {},
   "outputs": [
    {
     "name": "stdout",
     "output_type": "stream",
     "text": [
      "\n",
      "\n"
     ]
    }
   ],
   "source": [
    "file=open(\"data.txt\")\n",
    "data=file.read().lower()\n",
    "file.close()\n",
    "print(open(\"data.txt\").read())\n",
    "file=open(\"data.txt\",\"w\")\n",
    "file.write(data)\n",
    "file.close()\n",
    "print(open(\"data.txt\").read())"
   ]
  },
  {
   "cell_type": "code",
   "execution_count": null,
   "metadata": {},
   "outputs": [],
   "source": []
  }
 ],
 "metadata": {
  "kernelspec": {
   "display_name": "Python 3",
   "language": "python",
   "name": "python3"
  },
  "language_info": {
   "codemirror_mode": {
    "name": "ipython",
    "version": 3
   },
   "file_extension": ".py",
   "mimetype": "text/x-python",
   "name": "python",
   "nbconvert_exporter": "python",
   "pygments_lexer": "ipython3",
   "version": "3.6.5"
  }
 },
 "nbformat": 4,
 "nbformat_minor": 2
}
