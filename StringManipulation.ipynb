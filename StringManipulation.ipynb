{
 "cells": [
  {
   "cell_type": "code",
   "execution_count": 1,
   "metadata": {},
   "outputs": [],
   "source": [
    "s=\"Ajay Kumar\""
   ]
  },
  {
   "cell_type": "code",
   "execution_count": 2,
   "metadata": {},
   "outputs": [
    {
     "name": "stdout",
     "output_type": "stream",
     "text": [
      "10\n"
     ]
    }
   ],
   "source": [
    "print(len(s))"
   ]
  },
  {
   "cell_type": "code",
   "execution_count": 3,
   "metadata": {},
   "outputs": [
    {
     "name": "stdout",
     "output_type": "stream",
     "text": [
      "A\n"
     ]
    }
   ],
   "source": [
    "print(s[0])"
   ]
  },
  {
   "cell_type": "code",
   "execution_count": 5,
   "metadata": {},
   "outputs": [
    {
     "name": "stdout",
     "output_type": "stream",
     "text": [
      "K\n"
     ]
    }
   ],
   "source": [
    "print(s[5])"
   ]
  },
  {
   "cell_type": "code",
   "execution_count": 7,
   "metadata": {},
   "outputs": [
    {
     "name": "stdout",
     "output_type": "stream",
     "text": [
      "r\n"
     ]
    }
   ],
   "source": [
    "print(s[9])"
   ]
  },
  {
   "cell_type": "code",
   "execution_count": 8,
   "metadata": {},
   "outputs": [
    {
     "name": "stdout",
     "output_type": "stream",
     "text": [
      "r\n"
     ]
    }
   ],
   "source": [
    "print(s[len(s)-1])"
   ]
  },
  {
   "cell_type": "code",
   "execution_count": 9,
   "metadata": {},
   "outputs": [
    {
     "name": "stdout",
     "output_type": "stream",
     "text": [
      "r\n"
     ]
    }
   ],
   "source": [
    "print(s[-1])"
   ]
  },
  {
   "cell_type": "code",
   "execution_count": 11,
   "metadata": {},
   "outputs": [
    {
     "name": "stdout",
     "output_type": "stream",
     "text": [
      "a\n"
     ]
    }
   ],
   "source": [
    "print(s[-8])"
   ]
  },
  {
   "cell_type": "code",
   "execution_count": 13,
   "metadata": {},
   "outputs": [
    {
     "name": "stdout",
     "output_type": "stream",
     "text": [
      "Ajay Ku\n"
     ]
    }
   ],
   "source": [
    "print(s[0:7])"
   ]
  },
  {
   "cell_type": "code",
   "execution_count": 37,
   "metadata": {},
   "outputs": [
    {
     "name": "stdout",
     "output_type": "stream",
     "text": [
      "\n"
     ]
    }
   ],
   "source": [
    "se=\"Journey before Destination\"\n",
    "print(se[-1:22])"
   ]
  },
  {
   "cell_type": "code",
   "execution_count": 18,
   "metadata": {},
   "outputs": [
    {
     "name": "stdout",
     "output_type": "stream",
     "text": [
      "Ajay Ku\n"
     ]
    }
   ],
   "source": [
    "print(s[:7])"
   ]
  },
  {
   "cell_type": "code",
   "execution_count": 20,
   "metadata": {},
   "outputs": [
    {
     "name": "stdout",
     "output_type": "stream",
     "text": [
      "Kumar\n"
     ]
    }
   ],
   "source": [
    "print(s[-5:])"
   ]
  },
  {
   "cell_type": "code",
   "execution_count": 23,
   "metadata": {},
   "outputs": [],
   "source": [
    "se=\"Journey before Destination\""
   ]
  },
  {
   "cell_type": "code",
   "execution_count": 24,
   "metadata": {},
   "outputs": [
    {
     "name": "stdout",
     "output_type": "stream",
     "text": [
      "Journey before Destination\n"
     ]
    }
   ],
   "source": [
    "print(se)"
   ]
  },
  {
   "cell_type": "code",
   "execution_count": 26,
   "metadata": {},
   "outputs": [
    {
     "name": "stdout",
     "output_type": "stream",
     "text": [
      "before\n"
     ]
    }
   ],
   "source": [
    "print(se[8:14])"
   ]
  },
  {
   "cell_type": "code",
   "execution_count": 28,
   "metadata": {},
   "outputs": [
    {
     "name": "stdout",
     "output_type": "stream",
     "text": [
      "rney before Destinat\n"
     ]
    }
   ],
   "source": [
    "print(se[3:23])"
   ]
  },
  {
   "cell_type": "code",
   "execution_count": 29,
   "metadata": {},
   "outputs": [
    {
     "name": "stdout",
     "output_type": "stream",
     "text": [
      "rney before Destinat\n"
     ]
    }
   ],
   "source": [
    "print(se[3:-3])"
   ]
  },
  {
   "cell_type": "code",
   "execution_count": 30,
   "metadata": {},
   "outputs": [],
   "source": [
    "w=\"The word of Radiance\""
   ]
  },
  {
   "cell_type": "code",
   "execution_count": 33,
   "metadata": {},
   "outputs": [
    {
     "data": {
      "text/plain": [
       "'Thl word of Radiancl'"
      ]
     },
     "execution_count": 33,
     "metadata": {},
     "output_type": "execute_result"
    }
   ],
   "source": [
    "w.replace('e','l')"
   ]
  },
  {
   "cell_type": "code",
   "execution_count": 34,
   "metadata": {},
   "outputs": [
    {
     "data": {
      "text/plain": [
       "'That word of Radiance'"
      ]
     },
     "execution_count": 34,
     "metadata": {},
     "output_type": "execute_result"
    }
   ],
   "source": [
    "w.replace('The','That')"
   ]
  },
  {
   "cell_type": "code",
   "execution_count": 39,
   "metadata": {},
   "outputs": [
    {
     "data": {
      "text/plain": [
       "<function str.replace>"
      ]
     },
     "execution_count": 39,
     "metadata": {},
     "output_type": "execute_result"
    }
   ],
   "source": [
    "w.replace"
   ]
  },
  {
   "cell_type": "code",
   "execution_count": 52,
   "metadata": {},
   "outputs": [
    {
     "data": {
      "text/plain": [
       "'The wWrd of Radiance'"
      ]
     },
     "execution_count": 52,
     "metadata": {},
     "output_type": "execute_result"
    }
   ],
   "source": [
    "w.replace(\"o\",\"W\",1)"
   ]
  },
  {
   "cell_type": "code",
   "execution_count": 54,
   "metadata": {},
   "outputs": [
    {
     "data": {
      "text/plain": [
       "6"
      ]
     },
     "execution_count": 54,
     "metadata": {},
     "output_type": "execute_result"
    }
   ],
   "source": [
    "w.index('r')"
   ]
  },
  {
   "cell_type": "code",
   "execution_count": 58,
   "metadata": {},
   "outputs": [
    {
     "data": {
      "text/plain": [
       "12"
      ]
     },
     "execution_count": 58,
     "metadata": {},
     "output_type": "execute_result"
    }
   ],
   "source": [
    "w.index('R',10,15)"
   ]
  },
  {
   "cell_type": "code",
   "execution_count": 61,
   "metadata": {},
   "outputs": [
    {
     "data": {
      "text/plain": [
       "1"
      ]
     },
     "execution_count": 61,
     "metadata": {},
     "output_type": "execute_result"
    }
   ],
   "source": [
    "w.count('of')"
   ]
  },
  {
   "cell_type": "code",
   "execution_count": 7,
   "metadata": {},
   "outputs": [
    {
     "name": "stdout",
     "output_type": "stream",
     "text": [
      "a d f   w f   s d f k j s d f     s d     a d s     a     a b h s "
     ]
    },
    {
     "data": {
      "text/plain": [
       "4"
      ]
     },
     "execution_count": 7,
     "metadata": {},
     "output_type": "execute_result"
    }
   ],
   "source": [
    "l='adf wf sdfkjsdf  sd  ads  a  abhs'\n",
    "for i in l:\n",
    "    print(i,end=\" \")\n",
    "l.count('a')"
   ]
  },
  {
   "cell_type": "code",
   "execution_count": 65,
   "metadata": {},
   "outputs": [],
   "source": [
    "#writea progra toreplace with _ "
   ]
  },
  {
   "cell_type": "code",
   "execution_count": 79,
   "metadata": {},
   "outputs": [
    {
     "name": "stdout",
     "output_type": "stream",
     "text": [
      "____hf____________\n"
     ]
    }
   ],
   "source": [
    "r='ajayhfajayajaypapa'\n",
    "for i in r:\n",
    "    if r.count(i)>1:\n",
    "        r=r.replace(i,'_')\n",
    "print(r)"
   ]
  },
  {
   "cell_type": "code",
   "execution_count": 8,
   "metadata": {},
   "outputs": [
    {
     "name": "stdout",
     "output_type": "stream",
     "text": [
      "iiiiiiiiiiiiiigii\n"
     ]
    }
   ],
   "source": [
    "r='hgh hgj ghjghjghj'\n",
    "for i in r:\n",
    "    if r.count(i)>1:\n",
    "        r=r.replace(i,'i',2)\n",
    "print(r)"
   ]
  },
  {
   "cell_type": "code",
   "execution_count": 79,
   "metadata": {},
   "outputs": [
    {
     "name": "stdout",
     "output_type": "stream",
     "text": [
      "____hf____________\n"
     ]
    }
   ],
   "source": [
    "r='ajayhfajayajaypapa'\n",
    "for i in r:\n",
    "    if r.count(i)>1:\n",
    "        r=r.replace(i,'_')\n",
    "print(r)"
   ]
  },
  {
   "cell_type": "code",
   "execution_count": 79,
   "metadata": {},
   "outputs": [
    {
     "name": "stdout",
     "output_type": "stream",
     "text": [
      "____hf____________\n"
     ]
    }
   ],
   "source": [
    "r='ajayhfajayajaypapa'\n",
    "for i in r:\n",
    "    if r.count(i)>1:\n",
    "        r=r.replace(i,'_')\n",
    "print(r)"
   ]
  },
  {
   "cell_type": "code",
   "execution_count": 79,
   "metadata": {},
   "outputs": [
    {
     "name": "stdout",
     "output_type": "stream",
     "text": [
      "____hf____________\n"
     ]
    }
   ],
   "source": [
    "r='ajayhfajayajaypapa'\n",
    "for i in r:\n",
    "    if r.count(i)>1:\n",
    "        r=r.replace(i,'_')\n",
    "print(r)"
   ]
  },
  {
   "cell_type": "code",
   "execution_count": 87,
   "metadata": {},
   "outputs": [],
   "source": [
    "q=\"The Final Empire is the 1st book of the series\""
   ]
  },
  {
   "cell_type": "code",
   "execution_count": 88,
   "metadata": {},
   "outputs": [
    {
     "data": {
      "text/plain": [
       "46"
      ]
     },
     "execution_count": 88,
     "metadata": {},
     "output_type": "execute_result"
    }
   ],
   "source": [
    "len(q)"
   ]
  },
  {
   "cell_type": "code",
   "execution_count": 91,
   "metadata": {},
   "outputs": [
    {
     "data": {
      "text/plain": [
       "['The', 'Final', 'Empire', 'is', 'the', '1st', 'book', 'of', 'the', 'series']"
      ]
     },
     "execution_count": 91,
     "metadata": {},
     "output_type": "execute_result"
    }
   ],
   "source": [
    "q.split()"
   ]
  },
  {
   "cell_type": "code",
   "execution_count": 92,
   "metadata": {},
   "outputs": [
    {
     "data": {
      "text/plain": [
       "10"
      ]
     },
     "execution_count": 92,
     "metadata": {},
     "output_type": "execute_result"
    }
   ],
   "source": [
    "len(q.split())"
   ]
  },
  {
   "cell_type": "code",
   "execution_count": 93,
   "metadata": {},
   "outputs": [],
   "source": [
    "it=[\"mango\",\"apple\",\"orange\"]"
   ]
  },
  {
   "cell_type": "code",
   "execution_count": 96,
   "metadata": {},
   "outputs": [],
   "source": [
    "fruit=\",\".join(it)"
   ]
  },
  {
   "cell_type": "code",
   "execution_count": 99,
   "metadata": {},
   "outputs": [
    {
     "name": "stdout",
     "output_type": "stream",
     "text": [
      "mango,apple,orange\n"
     ]
    }
   ],
   "source": [
    "print(fruit)"
   ]
  },
  {
   "cell_type": "code",
   "execution_count": 101,
   "metadata": {},
   "outputs": [
    {
     "name": "stdout",
     "output_type": "stream",
     "text": [
      "123\n",
      "12be\n"
     ]
    }
   ],
   "source": [
    "a=\"123\"\n",
    "b=\"12be\"\n",
    "int(a)\n",
    "print(a)\n",
    "print(b)"
   ]
  },
  {
   "cell_type": "code",
   "execution_count": 102,
   "metadata": {},
   "outputs": [
    {
     "ename": "ValueError",
     "evalue": "invalid literal for int() with base 10: '12be'",
     "output_type": "error",
     "traceback": [
      "\u001b[1;31m---------------------------------------------------------------------------\u001b[0m",
      "\u001b[1;31mValueError\u001b[0m                                Traceback (most recent call last)",
      "\u001b[1;32m<ipython-input-102-07ae29993d50>\u001b[0m in \u001b[0;36m<module>\u001b[1;34m()\u001b[0m\n\u001b[1;32m----> 1\u001b[1;33m \u001b[0mint\u001b[0m\u001b[1;33m(\u001b[0m\u001b[0mb\u001b[0m\u001b[1;33m)\u001b[0m\u001b[1;33m\u001b[0m\u001b[0m\n\u001b[0m",
      "\u001b[1;31mValueError\u001b[0m: invalid literal for int() with base 10: '12be'"
     ]
    }
   ],
   "source": [
    "int(b)"
   ]
  },
  {
   "cell_type": "code",
   "execution_count": 105,
   "metadata": {},
   "outputs": [
    {
     "data": {
      "text/plain": [
       "True"
      ]
     },
     "execution_count": 105,
     "metadata": {},
     "output_type": "execute_result"
    }
   ],
   "source": [
    "a.isnumeric()"
   ]
  },
  {
   "cell_type": "code",
   "execution_count": 106,
   "metadata": {},
   "outputs": [
    {
     "data": {
      "text/plain": [
       "False"
      ]
     },
     "execution_count": 106,
     "metadata": {},
     "output_type": "execute_result"
    }
   ],
   "source": [
    "b.isnumeric()"
   ]
  },
  {
   "cell_type": "code",
   "execution_count": 116,
   "metadata": {},
   "outputs": [],
   "source": [
    "q=\"      sdk    gfdsgf dfgd     \""
   ]
  },
  {
   "cell_type": "code",
   "execution_count": 117,
   "metadata": {},
   "outputs": [
    {
     "data": {
      "text/plain": [
       "'      sdk    gfdsgf dfgd'"
      ]
     },
     "execution_count": 117,
     "metadata": {},
     "output_type": "execute_result"
    }
   ],
   "source": [
    "q.rstrip()"
   ]
  },
  {
   "cell_type": "code",
   "execution_count": 118,
   "metadata": {},
   "outputs": [
    {
     "data": {
      "text/plain": [
       "'sdk    gfdsgf dfgd     '"
      ]
     },
     "execution_count": 118,
     "metadata": {},
     "output_type": "execute_result"
    }
   ],
   "source": [
    "q.lstrip()"
   ]
  },
  {
   "cell_type": "code",
   "execution_count": 2,
   "metadata": {},
   "outputs": [],
   "source": [
    "#wap where user will enter 50 word then u hae to count a characters and display "
   ]
  },
  {
   "cell_type": "code",
   "execution_count": 34,
   "metadata": {},
   "outputs": [
    {
     "name": "stdout",
     "output_type": "stream",
     "text": [
      "['this', 'is', 'my', 'Jobthis', 'is', 'my', 'Jobthis', 'is', 'my', 'Jobthis', 'is', 'my', 'Jobthis', 'is', 'my', 'Jobthis', 'is', 'my', 'Jobthis', 'is', 'my', 'Jobthis', 'is', 'my', 'Jobthis', 'is', 'my', 'Jobthis', 'is', 'my', 'Jobthis', 'is', 'my', 'Jobthis', 'is', 'my', 'Jobthis', 'is', 'my', 'Jobthis', 'is', 'my', 'Jobthis', 'is', 'my', 'Jobthis', 'is', 'my', 'hg', 'Job']\n",
      "yes 50\n",
      "t 16\n",
      "h 17\n",
      "i 32\n",
      "s 32\n",
      "  49\n",
      "i 32\n",
      "s 32\n",
      "  49\n",
      "m 16\n",
      "y 16\n",
      "  49\n",
      "J 16\n",
      "o 16\n",
      "b 16\n",
      "t 16\n",
      "h 17\n",
      "i 32\n",
      "s 32\n",
      "  49\n",
      "i 32\n",
      "s 32\n",
      "  49\n",
      "m 16\n",
      "y 16\n",
      "  49\n",
      "J 16\n",
      "o 16\n",
      "b 16\n",
      "t 16\n",
      "h 17\n",
      "i 32\n",
      "s 32\n",
      "  49\n",
      "i 32\n",
      "s 32\n",
      "  49\n",
      "m 16\n",
      "y 16\n",
      "  49\n",
      "J 16\n",
      "o 16\n",
      "b 16\n",
      "t 16\n",
      "h 17\n",
      "i 32\n",
      "s 32\n",
      "  49\n",
      "i 32\n",
      "s 32\n",
      "  49\n",
      "m 16\n",
      "y 16\n",
      "  49\n",
      "J 16\n",
      "o 16\n",
      "b 16\n",
      "t 16\n",
      "h 17\n",
      "i 32\n",
      "s 32\n",
      "  49\n",
      "i 32\n",
      "s 32\n",
      "  49\n",
      "m 16\n",
      "y 16\n",
      "  49\n",
      "J 16\n",
      "o 16\n",
      "b 16\n",
      "t 16\n",
      "h 17\n",
      "i 32\n",
      "s 32\n",
      "  49\n",
      "i 32\n",
      "s 32\n",
      "  49\n",
      "m 16\n",
      "y 16\n",
      "  49\n",
      "J 16\n",
      "o 16\n",
      "b 16\n",
      "t 16\n",
      "h 17\n",
      "i 32\n",
      "s 32\n",
      "  49\n",
      "i 32\n",
      "s 32\n",
      "  49\n",
      "m 16\n",
      "y 16\n",
      "  49\n",
      "J 16\n",
      "o 16\n",
      "b 16\n",
      "t 16\n",
      "h 17\n",
      "i 32\n",
      "s 32\n",
      "  49\n",
      "i 32\n",
      "s 32\n",
      "  49\n",
      "m 16\n",
      "y 16\n",
      "  49\n",
      "J 16\n",
      "o 16\n",
      "b 16\n",
      "t 16\n",
      "h 17\n",
      "i 32\n",
      "s 32\n",
      "  49\n",
      "i 32\n",
      "s 32\n",
      "  49\n",
      "m 16\n",
      "y 16\n",
      "  49\n",
      "J 16\n",
      "o 16\n",
      "b 16\n",
      "t 16\n",
      "h 17\n",
      "i 32\n",
      "s 32\n",
      "  49\n",
      "i 32\n",
      "s 32\n",
      "  49\n",
      "m 16\n",
      "y 16\n",
      "  49\n",
      "J 16\n",
      "o 16\n",
      "b 16\n",
      "t 16\n",
      "h 17\n",
      "i 32\n",
      "s 32\n",
      "  49\n",
      "i 32\n",
      "s 32\n",
      "  49\n",
      "m 16\n",
      "y 16\n",
      "  49\n",
      "J 16\n",
      "o 16\n",
      "b 16\n",
      "t 16\n",
      "h 17\n",
      "i 32\n",
      "s 32\n",
      "  49\n",
      "i 32\n",
      "s 32\n",
      "  49\n",
      "m 16\n",
      "y 16\n",
      "  49\n",
      "J 16\n",
      "o 16\n",
      "b 16\n",
      "t 16\n",
      "h 17\n",
      "i 32\n",
      "s 32\n",
      "  49\n",
      "i 32\n",
      "s 32\n",
      "  49\n",
      "m 16\n",
      "y 16\n",
      "  49\n",
      "J 16\n",
      "o 16\n",
      "b 16\n",
      "t 16\n",
      "h 17\n",
      "i 32\n",
      "s 32\n",
      "  49\n",
      "i 32\n",
      "s 32\n",
      "  49\n",
      "m 16\n",
      "y 16\n",
      "  49\n",
      "J 16\n",
      "o 16\n",
      "b 16\n",
      "t 16\n",
      "h 17\n",
      "i 32\n",
      "s 32\n",
      "  49\n",
      "i 32\n",
      "s 32\n",
      "  49\n",
      "m 16\n",
      "y 16\n",
      "  49\n",
      "J 16\n",
      "o 16\n",
      "b 16\n",
      "t 16\n",
      "h 17\n",
      "i 32\n",
      "s 32\n",
      "  49\n",
      "i 32\n",
      "s 32\n",
      "  49\n",
      "m 16\n",
      "y 16\n",
      "  49\n",
      "h 17\n",
      "g 1\n",
      "  49\n",
      "J 16\n",
      "o 16\n",
      "b 16\n"
     ]
    }
   ],
   "source": [
    "q=\"this is my Jobthis is my Jobthis is my Jobthis is my Jobthis is my Jobthis is my Jobthis is my Jobthis is my Jobthis is my Jobthis is my Jobthis is my Jobthis is my Jobthis is my Jobthis is my Jobthis is my Jobthis is my hg Job\"\n",
    "print(q.split())\n",
    "t=len(q.split())\n",
    "\n",
    "if t!=50:\n",
    "    print(\"its not\",t)\n",
    "\n",
    "else:\n",
    "    print(\"yes\",t)\n",
    "for j in q:\n",
    "    print(j,q.count(j))"
   ]
  },
  {
   "cell_type": "code",
   "execution_count": null,
   "metadata": {},
   "outputs": [],
   "source": []
  }
 ],
 "metadata": {
  "kernelspec": {
   "display_name": "Python 3",
   "language": "python",
   "name": "python3"
  },
  "language_info": {
   "codemirror_mode": {
    "name": "ipython",
    "version": 3
   },
   "file_extension": ".py",
   "mimetype": "text/x-python",
   "name": "python",
   "nbconvert_exporter": "python",
   "pygments_lexer": "ipython3",
   "version": "3.6.5"
  }
 },
 "nbformat": 4,
 "nbformat_minor": 2
}
