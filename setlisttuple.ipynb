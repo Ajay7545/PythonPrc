{
 "cells": [
  {
   "cell_type": "code",
   "execution_count": 2,
   "metadata": {},
   "outputs": [],
   "source": [
    "#list       tuple\n",
    "#mutable inmutable\n",
    "#\n",
    "#\n",
    "#\n",
    "#\n"
   ]
  },
  {
   "cell_type": "code",
   "execution_count": 1,
   "metadata": {},
   "outputs": [
    {
     "name": "stdout",
     "output_type": "stream",
     "text": [
      "<class 'tuple'>\n",
      "(1, 2, 4)\n"
     ]
    }
   ],
   "source": [
    "w=(1,2,4)\n",
    "print(type(w))\n",
    "print(w)"
   ]
  },
  {
   "cell_type": "code",
   "execution_count": 16,
   "metadata": {},
   "outputs": [
    {
     "name": "stdout",
     "output_type": "stream",
     "text": [
      "<class 'list'> [1, 25, 3, 4]\n",
      "<class 'set'> {1, 2, 34, 'sksjd'}\n",
      "<class 'tuple'> (1, 2, 4, 45, 'amit')\n",
      "<class 'dict'> {'ajay': 'kumar', 'akash': 'sur'}\n",
      "1 a is <class 'set'> {1, 3, 4, 25}\n",
      "2 a is <class 'tuple'> (1, 3, 4, 25)\n",
      "2 a is <class 'list'> [1, 3, 4, 25]\n",
      "3 b is <class 'set'> {2, 34, 'sksjd'}\n",
      "2 d is <class 'dict'> {'ajay': 'kumar'}\n"
     ]
    }
   ],
   "source": [
    "a=[1,25,3,4]\n",
    "b={1,2,34,'sksjd'}\n",
    "c=(1,2,4,45,'amit')\n",
    "d={'ajay':'kumar','akash':'sur'}\n",
    "print(type(a),a)\n",
    "print(type(b),b)\n",
    "print(type(c),c)\n",
    "print(type(d),d)\n",
    "a=set(a)\n",
    "print('1 a is',type(a),a)\n",
    "a=tuple(a)\n",
    "print('2 a is',type(a),a)\n",
    "a=list(a)\n",
    "a.sort()\n",
    "b.pop()\n",
    "c.count\n",
    "d.popitem()\n",
    "print('2 a is',type(a),a)\n",
    "print('3 b is',type(b),b)\n",
    "print('2 d is',type(d),d)"
   ]
  },
  {
   "cell_type": "code",
   "execution_count": 4,
   "metadata": {},
   "outputs": [
    {
     "name": "stdout",
     "output_type": "stream",
     "text": [
      "A \n",
      "A B \n",
      "A B C \n",
      "A B C D \n",
      "A B C D E \n",
      "A B C D E F \n"
     ]
    }
   ],
   "source": [
    "a=['A','B','C','D','E','F']\n",
    "k=1\n",
    "p=1\n",
    "for i in range(0,6):\n",
    "    for j in range(0,i+1):\n",
    "        print(a[j],end=' ')\n",
    "    print()    "
   ]
  },
  {
   "cell_type": "code",
   "execution_count": 13,
   "metadata": {},
   "outputs": [
    {
     "name": "stdout",
     "output_type": "stream",
     "text": [
      "A B C D E F \n",
      "B  \t  E\n",
      "C  \t  D\n",
      "D  \t  C\n",
      "E  \t  B\n",
      "F E D C B A "
     ]
    }
   ],
   "source": [
    "for i in a:\n",
    "    print(i,end=' ')\n",
    "print()\n",
    "t=1\n",
    "x=5\n",
    "p=5\n",
    "while t!=5:\n",
    "    print(a[t],\" \\t \",a[x-t])\n",
    "    t=t+1\n",
    "while p!=-1:\n",
    "    print(a[p],end=' ')\n",
    "    p=p-1"
   ]
  },
  {
   "cell_type": "code",
   "execution_count": 13,
   "metadata": {},
   "outputs": [
    {
     "name": "stdout",
     "output_type": "stream",
     "text": [
      "(0, 1, 2, 3, 4, 5, 6, 7, 8, 9, 10, 11, 12, 13, 14, 15, 16, 17, 18, 19)\n"
     ]
    }
   ],
   "source": []
  },
  {
   "cell_type": "code",
   "execution_count": 14,
   "metadata": {},
   "outputs": [
    {
     "data": {
      "text/plain": [
       "(0, 1, 2)"
      ]
     },
     "execution_count": 14,
     "metadata": {},
     "output_type": "execute_result"
    }
   ],
   "source": [
    "qq[:3]"
   ]
  },
  {
   "cell_type": "code",
   "execution_count": 24,
   "metadata": {},
   "outputs": [],
   "source": [
    "qq=(2,3,'ads',4,2,4,1)"
   ]
  },
  {
   "cell_type": "code",
   "execution_count": 25,
   "metadata": {},
   "outputs": [
    {
     "data": {
      "text/plain": [
       "2"
      ]
     },
     "execution_count": 25,
     "metadata": {},
     "output_type": "execute_result"
    }
   ],
   "source": [
    "qq.count(4)"
   ]
  },
  {
   "cell_type": "code",
   "execution_count": 26,
   "metadata": {},
   "outputs": [
    {
     "name": "stdout",
     "output_type": "stream",
     "text": [
      "2\n"
     ]
    }
   ],
   "source": [
    "t=qq.index('ads')\n",
    "print(t)"
   ]
  },
  {
   "cell_type": "code",
   "execution_count": 27,
   "metadata": {},
   "outputs": [],
   "source": [
    "#tuple to list &vice ve"
   ]
  },
  {
   "cell_type": "code",
   "execution_count": 1,
   "metadata": {},
   "outputs": [],
   "source": [
    "e=tuple(range(2,15,2))"
   ]
  },
  {
   "cell_type": "code",
   "execution_count": 32,
   "metadata": {},
   "outputs": [
    {
     "name": "stdout",
     "output_type": "stream",
     "text": [
      "[2, 4, 6, 8, 10, 12, 14]\n"
     ]
    }
   ],
   "source": [
    "li=list(e)\n",
    "print(li)"
   ]
  },
  {
   "cell_type": "code",
   "execution_count": 34,
   "metadata": {},
   "outputs": [
    {
     "name": "stdout",
     "output_type": "stream",
     "text": [
      "(1, 2, 3, 4)\n"
     ]
    }
   ],
   "source": [
    "qa=[1,2,3,4]\n",
    "qw=tuple(qa)\n",
    "print(qw)"
   ]
  },
  {
   "cell_type": "code",
   "execution_count": 21,
   "metadata": {},
   "outputs": [
    {
     "name": "stdout",
     "output_type": "stream",
     "text": [
      "<class 'set'>\n",
      "{1, 3, 4, 5, 7, 9}\n",
      "{21, 2, 3, 5}\n",
      "<class 'tuple'> (21, 2, 3, 5)\n",
      "<class 'set'> {1, 3, 4, 5, 7, 9}\n",
      "<class 'list'> [21, 2, 3, 5]\n"
     ]
    }
   ],
   "source": [
    "#set unordered and list,tuple are ordered\n",
    "#set unique data\n",
    "#set automatically sort(number)\n",
    "#set  {}denote\n",
    "sset={1,4,5,7,3,9}\n",
    "st={3,5,2,21}\n",
    "print(type(st))\n",
    "print(sset)\n",
    "print(st)\n",
    "sd=list(st)\n",
    "df=set(sset)\n",
    "asd=tuple(st)\n",
    "print(type(asd),asd)\n",
    "print(type(df),df)\n",
    "print(type(sd),sd)"
   ]
  },
  {
   "cell_type": "code",
   "execution_count": 40,
   "metadata": {},
   "outputs": [
    {
     "name": "stdout",
     "output_type": "stream",
     "text": [
      "<class 'set'>\n",
      "{2, 'y', 'b', 's', 45, 'e', 'f', 't', 'a'}\n"
     ]
    }
   ],
   "source": [
    "s1={'a','b','s','e','f','y','t',45,2}\n",
    "print(type(s1))\n",
    "print(s1)"
   ]
  },
  {
   "cell_type": "code",
   "execution_count": 42,
   "metadata": {},
   "outputs": [
    {
     "name": "stdout",
     "output_type": "stream",
     "text": [
      "{1, 2, 3, 5, 9}\n"
     ]
    }
   ],
   "source": [
    "qwww={5,1,9,3,2}\n",
    "print(qwww)"
   ]
  },
  {
   "cell_type": "code",
   "execution_count": 44,
   "metadata": {},
   "outputs": [
    {
     "name": "stdout",
     "output_type": "stream",
     "text": [
      "1\n",
      "2\n",
      "3\n",
      "5\n",
      "9\n"
     ]
    }
   ],
   "source": [
    "for i in qwww:\n",
    "    print(i)"
   ]
  },
  {
   "cell_type": "code",
   "execution_count": 48,
   "metadata": {},
   "outputs": [
    {
     "name": "stdout",
     "output_type": "stream",
     "text": [
      "[1, 2, 3, 5, 9]\n"
     ]
    }
   ],
   "source": [
    "wee=list(qwww)#in list\n",
    "print(wee)\n",
    "er=set(wee)"
   ]
  },
  {
   "cell_type": "code",
   "execution_count": 47,
   "metadata": {},
   "outputs": [
    {
     "name": "stdout",
     "output_type": "stream",
     "text": [
      "{1, 2, 4, 5, 7}\n"
     ]
    }
   ],
   "source": [
    "qw={1,2,4,5,1,2,7}\n",
    "print(qw)"
   ]
  },
  {
   "cell_type": "code",
   "execution_count": 36,
   "metadata": {},
   "outputs": [
    {
     "name": "stdout",
     "output_type": "stream",
     "text": [
      "True\n",
      "{1}\n",
      "{1}\n",
      "{8, 1, 5, 6}\n"
     ]
    }
   ],
   "source": [
    "s1={1,1,6,5,8}\n",
    "s2={1}\n",
    "k=s1.issuperset(s2)\n",
    "print(k)\n",
    "s1.add(5)\n",
    "print(s1.intersection(s2))\n",
    "s1.copy\n",
    "\n",
    "\n",
    "print(s2)\n",
    "print(s1)"
   ]
  },
  {
   "cell_type": "code",
   "execution_count": 50,
   "metadata": {},
   "outputs": [
    {
     "data": {
      "text/plain": [
       "False"
      ]
     },
     "execution_count": 50,
     "metadata": {},
     "output_type": "execute_result"
    }
   ],
   "source": [
    "s1.issubset(s2)"
   ]
  },
  {
   "cell_type": "code",
   "execution_count": 51,
   "metadata": {},
   "outputs": [
    {
     "data": {
      "text/plain": [
       "{1, 8}"
      ]
     },
     "execution_count": 51,
     "metadata": {},
     "output_type": "execute_result"
    }
   ],
   "source": [
    "s1.difference(s2)"
   ]
  },
  {
   "cell_type": "code",
   "execution_count": 52,
   "metadata": {},
   "outputs": [
    {
     "data": {
      "text/plain": [
       "{1, 5, 6, 8}"
      ]
     },
     "execution_count": 52,
     "metadata": {},
     "output_type": "execute_result"
    }
   ],
   "source": [
    "s1.union(s2)"
   ]
  },
  {
   "cell_type": "code",
   "execution_count": 60,
   "metadata": {},
   "outputs": [
    {
     "name": "stdout",
     "output_type": "stream",
     "text": [
      "{1, 3, 5, 6, 8}\n",
      "{5, 6}\n"
     ]
    }
   ],
   "source": [
    "s1.add(3)\n",
    "s1.symmetric_difference(s2)\n",
    "print(s1)\n",
    "print(s2)"
   ]
  },
  {
   "cell_type": "code",
   "execution_count": 62,
   "metadata": {},
   "outputs": [
    {
     "name": "stdout",
     "output_type": "stream",
     "text": [
      "{1, 3, 5, 6, 8, 'afd'}\n"
     ]
    }
   ],
   "source": [
    "s1.add('afd')\n",
    "print(s1)"
   ]
  },
  {
   "cell_type": "code",
   "execution_count": 63,
   "metadata": {},
   "outputs": [
    {
     "name": "stdout",
     "output_type": "stream",
     "text": [
      "{1, 3, 5, 6, 8}\n"
     ]
    }
   ],
   "source": [
    "s1.remove('afd')\n",
    "print(s1)"
   ]
  },
  {
   "cell_type": "code",
   "execution_count": 64,
   "metadata": {},
   "outputs": [
    {
     "name": "stdout",
     "output_type": "stream",
     "text": [
      "{3, 5, 6, 8}\n"
     ]
    }
   ],
   "source": [
    "s1.pop()\n",
    "print(s1)"
   ]
  },
  {
   "cell_type": "code",
   "execution_count": 38,
   "metadata": {},
   "outputs": [
    {
     "name": "stdout",
     "output_type": "stream",
     "text": [
      "<class 'set'> {(21, 2, 4), 1, 2, 3}\n"
     ]
    }
   ],
   "source": [
    "sw={1,2,3,(21,2,4)}\n",
    "print(type(sw),sw)"
   ]
  },
  {
   "cell_type": "code",
   "execution_count": 39,
   "metadata": {},
   "outputs": [
    {
     "ename": "TypeError",
     "evalue": "unhashable type: 'list'",
     "output_type": "error",
     "traceback": [
      "\u001b[1;31m---------------------------------------------------------------------------\u001b[0m",
      "\u001b[1;31mTypeError\u001b[0m                                 Traceback (most recent call last)",
      "\u001b[1;32m<ipython-input-39-5c2280cdfb06>\u001b[0m in \u001b[0;36m<module>\u001b[1;34m()\u001b[0m\n\u001b[1;32m----> 1\u001b[1;33m \u001b[0msw\u001b[0m\u001b[1;33m=\u001b[0m\u001b[1;33m{\u001b[0m\u001b[1;36m1\u001b[0m\u001b[1;33m,\u001b[0m\u001b[1;36m2\u001b[0m\u001b[1;33m,\u001b[0m\u001b[1;36m4\u001b[0m\u001b[1;33m,\u001b[0m\u001b[1;36m5\u001b[0m\u001b[1;33m,\u001b[0m\u001b[1;33m[\u001b[0m\u001b[1;36m2\u001b[0m\u001b[1;33m,\u001b[0m\u001b[1;36m3\u001b[0m\u001b[1;33m,\u001b[0m\u001b[1;36m4\u001b[0m\u001b[1;33m]\u001b[0m\u001b[1;33m}\u001b[0m\u001b[1;31m#set cannot hold listbut can tuple\u001b[0m\u001b[1;33m\u001b[0m\u001b[0m\n\u001b[0m",
      "\u001b[1;31mTypeError\u001b[0m: unhashable type: 'list'"
     ]
    }
   ],
   "source": [
    "sw={1,2,4,5,[2,3,4]}#set cannot hold listbut can tuple"
   ]
  },
  {
   "cell_type": "code",
   "execution_count": 68,
   "metadata": {},
   "outputs": [],
   "source": [
    "qw={}#empty dic\n",
    "er=set()#emptyset\n"
   ]
  },
  {
   "cell_type": "code",
   "execution_count": 72,
   "metadata": {},
   "outputs": [
    {
     "name": "stdout",
     "output_type": "stream",
     "text": [
      "[1, 2, 3, 4, 5, 6, 7, 8, 9, 12]\n"
     ]
    }
   ],
   "source": [
    "er=[]\n",
    "for i in range(10):\n",
    "    t=int(input())\n",
    "    er.append(t)\n",
    "print(er)"
   ]
  },
  {
   "cell_type": "code",
   "execution_count": 73,
   "metadata": {},
   "outputs": [],
   "source": [
    "wq=set(er)"
   ]
  },
  {
   "cell_type": "code",
   "execution_count": 74,
   "metadata": {},
   "outputs": [
    {
     "name": "stdout",
     "output_type": "stream",
     "text": [
      "{1, 2, 3, 4, 5, 6, 7, 8, 9, 12}\n"
     ]
    }
   ],
   "source": [
    "print(wq)"
   ]
  },
  {
   "cell_type": "code",
   "execution_count": 76,
   "metadata": {},
   "outputs": [
    {
     "name": "stdout",
     "output_type": "stream",
     "text": [
      "[1505, 1512, 1519, 1526, 1533, 1540, 1547, 1554, 1561, 1568, 1575, 1582, 1589, 1596, 1603, 1610, 1617, 1624, 1631, 1638, 1645, 1652, 1659, 1666, 1673, 1680, 1687, 1694, 1701, 1708, 1715, 1722, 1729, 1736, 1743, 1750, 1757, 1764, 1771, 1778, 1785, 1792, 1799, 1806, 1813, 1820, 1827, 1834, 1841, 1848, 1855, 1862, 1869, 1876, 1883, 1890, 1897, 1904, 1911, 1918, 1925, 1932, 1939, 1946, 1953, 1960, 1967, 1974, 1981, 1988, 1995, 2002, 2009, 2016, 2023, 2030, 2037, 2044, 2051, 2058, 2065, 2072, 2079, 2086, 2093, 2100, 2107, 2114, 2121, 2128, 2135, 2142, 2149, 2156, 2163, 2170, 2177, 2184, 2191, 2198, 2205, 2212, 2219, 2226, 2233, 2240, 2247, 2254, 2261, 2268, 2275, 2282, 2289, 2296, 2303, 2310, 2317, 2324, 2331, 2338, 2345, 2352, 2359, 2366, 2373, 2380, 2387, 2394, 2401, 2408, 2415, 2422, 2429, 2436, 2443, 2450, 2457, 2464, 2471, 2478, 2485, 2492, 2499, 2506, 2513, 2520, 2527, 2534, 2541, 2548, 2555, 2562, 2569, 2576, 2583, 2590, 2597, 2604, 2611, 2618, 2625, 2632, 2639, 2646, 2653, 2660, 2667, 2674, 2681, 2688, 2695, 2702, 2709, 2716, 2723, 2730, 2737, 2744, 2751, 2758, 2765, 2772, 2779, 2786, 2793, 2800, 2807, 2814, 2821, 2828, 2835, 2842, 2849, 2856, 2863, 2870, 2877, 2884, 2891, 2898, 2905, 2912, 2919, 2926, 2933, 2940, 2947, 2954, 2961, 2968, 2975, 2982, 2989, 2996]\n"
     ]
    }
   ],
   "source": [
    "#wap to find all no div by7 inrange(1500,3000)storew in set and display\n",
    "t=0\n",
    "re=[]\n",
    "for i in range(1500,3000):\n",
    "    if i%7==0:\n",
    "        f=i\n",
    "        t=t+f\n",
    "        re.append(f)\n",
    "print(re)"
   ]
  },
  {
   "cell_type": "code",
   "execution_count": 77,
   "metadata": {},
   "outputs": [
    {
     "name": "stdout",
     "output_type": "stream",
     "text": [
      "481607\n"
     ]
    }
   ],
   "source": [
    "print(t)"
   ]
  },
  {
   "cell_type": "code",
   "execution_count": 79,
   "metadata": {},
   "outputs": [
    {
     "name": "stdout",
     "output_type": "stream",
     "text": [
      "{2562, 2051, 1540, 2569, 2058, 1547, 2576, 2065, 1554, 2583, 2072, 1561, 2590, 2079, 1568, 2597, 2086, 1575, 2604, 2093, 1582, 2611, 2100, 1589, 2618, 2107, 1596, 2625, 2114, 1603, 2632, 2121, 1610, 2639, 2128, 1617, 2646, 2135, 1624, 2653, 2142, 1631, 2660, 2149, 1638, 2667, 2156, 1645, 2674, 2163, 1652, 2681, 2170, 1659, 2688, 2177, 1666, 2695, 2184, 1673, 2702, 2191, 1680, 2709, 2198, 1687, 2716, 2205, 1694, 2723, 2212, 1701, 2730, 2219, 1708, 2737, 2226, 1715, 2744, 2233, 1722, 2751, 2240, 1729, 2758, 2247, 1736, 2765, 2254, 1743, 2772, 2261, 1750, 2779, 2268, 1757, 2786, 2275, 1764, 2793, 2282, 1771, 2800, 2289, 1778, 2807, 2296, 1785, 2814, 2303, 1792, 2821, 2310, 1799, 2828, 2317, 1806, 2835, 2324, 1813, 2842, 2331, 1820, 2849, 2338, 1827, 2856, 2345, 1834, 2863, 2352, 1841, 2870, 2359, 1848, 2877, 2366, 1855, 2884, 2373, 1862, 2891, 2380, 1869, 2898, 2387, 1876, 2905, 2394, 1883, 2912, 2401, 1890, 2919, 2408, 1897, 2926, 2415, 1904, 2933, 2422, 1911, 2940, 2429, 1918, 2947, 2436, 1925, 2954, 2443, 1932, 2961, 2450, 1939, 2968, 2457, 1946, 2975, 2464, 1953, 2982, 2471, 1960, 2989, 2478, 1967, 2996, 2485, 1974, 2492, 1981, 2499, 1988, 2506, 1995, 2513, 2002, 2520, 2009, 2527, 2016, 1505, 2534, 2023, 1512, 2541, 2030, 1519, 2548, 2037, 1526, 2555, 2044, 1533}\n"
     ]
    }
   ],
   "source": [
    "tr=set(re)\n",
    "print(tr)"
   ]
  },
  {
   "cell_type": "code",
   "execution_count": 80,
   "metadata": {},
   "outputs": [
    {
     "name": "stdout",
     "output_type": "stream",
     "text": [
      "{'9', '0', '3', '4', '2', '7', '8', '6', '1', '5'}\n"
     ]
    }
   ],
   "source": [
    "ww=set()\n",
    "for i in range(10):\n",
    "    ir=input(\"enter\")\n",
    "    ww.add(ir)\n",
    "print(ww)"
   ]
  },
  {
   "cell_type": "code",
   "execution_count": 81,
   "metadata": {},
   "outputs": [
    {
     "name": "stdout",
     "output_type": "stream",
     "text": [
      "[4, 16, 25, 36]\n"
     ]
    }
   ],
   "source": [
    "a=[2,4,5,6]\n",
    "qw=[]\n",
    "for i in a:\n",
    "    qw.append(i**2)\n",
    "print(qw)"
   ]
  },
  {
   "cell_type": "code",
   "execution_count": 82,
   "metadata": {},
   "outputs": [
    {
     "name": "stdout",
     "output_type": "stream",
     "text": [
      "[4, 16, 25, 36]\n"
     ]
    }
   ],
   "source": [
    "err=[i**2 for i in a]\n",
    "print(err)"
   ]
  },
  {
   "cell_type": "code",
   "execution_count": 2,
   "metadata": {},
   "outputs": [
    {
     "name": "stdout",
     "output_type": "stream",
     "text": [
      "[4, 64, 144, 196]\n"
     ]
    }
   ],
   "source": [
    "rt=[1,2,8,9,12,13,14]\n",
    "rr=[]\n",
    "for i in rt:\n",
    "    if i%2==0:\n",
    "        rr.append(i**2)\n",
    "print(rr)"
   ]
  },
  {
   "cell_type": "code",
   "execution_count": 4,
   "metadata": {},
   "outputs": [
    {
     "name": "stdout",
     "output_type": "stream",
     "text": [
      "[1, 4, 64, 81, 144, 169, 196]\n"
     ]
    }
   ],
   "source": [
    "re=[i**2 for i in rt ]\n",
    "print(re)"
   ]
  },
  {
   "cell_type": "code",
   "execution_count": 41,
   "metadata": {},
   "outputs": [
    {
     "name": "stdout",
     "output_type": "stream",
     "text": [
      "{1, 2}\n"
     ]
    }
   ],
   "source": [
    "re={1,2}\n",
    "print(re)"
   ]
  },
  {
   "cell_type": "code",
   "execution_count": 42,
   "metadata": {},
   "outputs": [
    {
     "data": {
      "text/plain": [
       "set"
      ]
     },
     "execution_count": 42,
     "metadata": {},
     "output_type": "execute_result"
    }
   ],
   "source": [
    "type(re)"
   ]
  },
  {
   "cell_type": "code",
   "execution_count": 43,
   "metadata": {},
   "outputs": [
    {
     "data": {
      "text/plain": [
       "list"
      ]
     },
     "execution_count": 43,
     "metadata": {},
     "output_type": "execute_result"
    }
   ],
   "source": [
    "der=list(re)\n",
    "type(der)"
   ]
  },
  {
   "cell_type": "code",
   "execution_count": 1,
   "metadata": {},
   "outputs": [],
   "source": [
    "l1=[1,2,3]"
   ]
  },
  {
   "cell_type": "code",
   "execution_count": 2,
   "metadata": {},
   "outputs": [],
   "source": [
    "l2=[2]"
   ]
  },
  {
   "cell_type": "code",
   "execution_count": 5,
   "metadata": {},
   "outputs": [
    {
     "name": "stdout",
     "output_type": "stream",
     "text": [
      "<class 'set'> {1, 2, 3}\n"
     ]
    }
   ],
   "source": [
    "s1=set(l1)\n",
    "s2=set(l2)\n",
    "print(type(s1),s1)"
   ]
  },
  {
   "cell_type": "code",
   "execution_count": 7,
   "metadata": {},
   "outputs": [
    {
     "name": "stdout",
     "output_type": "stream",
     "text": [
      "yes\n"
     ]
    }
   ],
   "source": [
    "if s2.issubset(s1):\n",
    "    print('yes')\n",
    "else:\n",
    "    print('no')\n"
   ]
  },
  {
   "cell_type": "code",
   "execution_count": 15,
   "metadata": {},
   "outputs": [
    {
     "name": "stdout",
     "output_type": "stream",
     "text": [
      "hello\n",
      "['h', 'e', 'l', 'l', 'o']\n",
      "['w', 'o', 'r', 'l', 'd']\n",
      "no\n",
      "no\n",
      "yes\n",
      "yes\n",
      "yes\n"
     ]
    }
   ],
   "source": [
    "sa='hello'\n",
    "sb='world'\n",
    "sa1=[]\n",
    "sa2=[]\n",
    "print(sa)\n",
    "for i in sa:\n",
    "    sa1.append(i)\n",
    "for j in sb:\n",
    "    sa2.append(j)\n",
    "\n",
    "print(sa1)\n",
    "\n",
    "print(sa2)\n",
    "    \n",
    "for v in sa1:\n",
    "    if v in sa2:\n",
    "        print('yes')\n",
    "    else:\n",
    "        print('no')"
   ]
  },
  {
   "cell_type": "code",
   "execution_count": 16,
   "metadata": {},
   "outputs": [
    {
     "data": {
      "text/plain": [
       "5"
      ]
     },
     "execution_count": 16,
     "metadata": {},
     "output_type": "execute_result"
    }
   ],
   "source": [
    "len(sa1)"
   ]
  },
  {
   "cell_type": "raw",
   "metadata": {},
   "source": [
    "#!/bin/python3\n",
    "\n",
    "import math\n",
    "import os\n",
    "import random\n",
    "import re\n",
    "import sys\n",
    "# Complete the twoStrings function below.\n",
    "p=int(input())\n",
    "l1=[]\n",
    "l2=[]\n",
    "if p in range(1,11):\n",
    "    while p<=2:\n",
    "        s1=input()\n",
    "        s2=input()\n",
    "        if len(s1)>=1 and len(s1)<=100000 and len(s2)>=1 and len(s2)<=100000:\n",
    "            for i in s1:\n",
    "                l1.append(i)\n",
    "            for j in s2:\n",
    "                l2.append(j)\n",
    "            for v in l1:\n",
    "                if v in l2:\n",
    "                    print('YES')\n",
    "                    break\n",
    "                else:\n",
    "                    continue        \n",
    "            print('NO')"
   ]
  },
  {
   "cell_type": "code",
   "execution_count": null,
   "metadata": {},
   "outputs": [],
   "source": [
    "#!/bin/python3\n",
    "\n",
    "import math\n",
    "import os\n",
    "import random\n",
    "import re\n",
    "import sys\n",
    "# Complete the twoStrings function below.\n",
    "p=int(input())\n",
    "l1=[]\n",
    "l2=[]\n",
    "if p in range(1,11):\n",
    "    while p<=2:\n",
    "        s1=input()\n",
    "        s2=input()\n",
    "        if len(s1)>=1 and len(s1)<=100000:\n",
    "            for i in s1:\n",
    "                l1.append(i)\n",
    "            for j in s2:\n",
    "                l2.append(j)\n",
    "            for v in l1:\n",
    "                if v in l2:\n",
    "                    print('YES')\n",
    "                    break\n",
    "                else:\n",
    "                    print('NO')"
   ]
  },
  {
   "cell_type": "code",
   "execution_count": 4,
   "metadata": {},
   "outputs": [
    {
     "name": "stdout",
     "output_type": "stream",
     "text": [
      "2\n",
      "no\n"
     ]
    }
   ],
   "source": [
    "a=2\n",
    "print(a)\n",
    "for i in 'ajay':\n",
    "    if i in 'mit':\n",
    "        print('yes')\n",
    "        break\n",
    "else:\n",
    "    print('no')"
   ]
  },
  {
   "cell_type": "code",
   "execution_count": 6,
   "metadata": {},
   "outputs": [
    {
     "name": "stdout",
     "output_type": "stream",
     "text": [
      "YES\n"
     ]
    }
   ],
   "source": [
    "#!/bin/python3\n",
    "\n",
    "p=int(input())\n",
    "l1=[]\n",
    "l2=[]\n",
    "if p in range(1,11):\n",
    "    for k in range(1,p+1):\n",
    "        s1=input()\n",
    "        s2=input()\n",
    "        if len(s1)>=1 and len(s1)<=100000 and len(s2)>=1 and len(s2)<=100000:\n",
    "            for i in s1:\n",
    "                l1.append(i)\n",
    "            for j in s2:\n",
    "                l2.append(j)\n",
    "            for v in l1:\n",
    "                if v in l2:\n",
    "                    print('YES')\n",
    "                    break\n",
    "                break\n",
    "            else:\n",
    "                print('NO')"
   ]
  },
  {
   "cell_type": "code",
   "execution_count": 1,
   "metadata": {},
   "outputs": [
    {
     "name": "stdout",
     "output_type": "stream",
     "text": [
      "trhfghf\n"
     ]
    }
   ],
   "source": [
    "print('trhfghf')"
   ]
  },
  {
   "cell_type": "code",
   "execution_count": 2,
   "metadata": {},
   "outputs": [],
   "source": [
    "#!/bin/python3\n",
    "\n",
    "p=int(input())\n",
    "l1=[]\n",
    "l2=[]\n",
    "if p in range(1,11):\n",
    "    while p>0:\n",
    "        s1=input()\n",
    "        s2=input()\n",
    "        if len(s1)>=1 and len(s1)<=100000 and len(s2)>=1 and len(s2)<=100000:\n",
    "            for i in s1:\n",
    "                l1.append(i)\n",
    "            for j in s2:\n",
    "                l2.append(j)\n",
    "            for v in l1:\n",
    "                if v in l2:\n",
    "                    print('YES')\n",
    "                    break\n",
    "            else:\n",
    "                print('NO')\n",
    "        p=p-1"
   ]
  },
  {
   "cell_type": "code",
   "execution_count": null,
   "metadata": {},
   "outputs": [],
   "source": []
  }
 ],
 "metadata": {
  "kernelspec": {
   "display_name": "Python 3",
   "language": "python",
   "name": "python3"
  },
  "language_info": {
   "codemirror_mode": {
    "name": "ipython",
    "version": 3
   },
   "file_extension": ".py",
   "mimetype": "text/x-python",
   "name": "python",
   "nbconvert_exporter": "python",
   "pygments_lexer": "ipython3",
   "version": "3.6.5"
  }
 },
 "nbformat": 4,
 "nbformat_minor": 2
}
