{
 "cells": [
  {
   "cell_type": "code",
   "execution_count": 1,
   "metadata": {},
   "outputs": [
    {
     "data": {
      "text/plain": [
       "list"
      ]
     },
     "execution_count": 1,
     "metadata": {},
     "output_type": "execute_result"
    }
   ],
   "source": [
    "#Dictionary {key:value} unordered \n",
    "#keys \n",
    "#always string \n",
    "#immutable(value cnt change) \n",
    "#unique\n",
    "#case sensitive\n",
    "q=['ravi','sales',2000,123,24]\n",
    "type(q)"
   ]
  },
  {
   "cell_type": "code",
   "execution_count": 2,
   "metadata": {},
   "outputs": [],
   "source": [
    "er={'name':'ravi',\n",
    "    'dept':'sales',\n",
    "    'salary':2000,\n",
    "    'id':124324,\n",
    "   'age':24}"
   ]
  },
  {
   "cell_type": "code",
   "execution_count": 22,
   "metadata": {},
   "outputs": [
    {
     "name": "stdout",
     "output_type": "stream",
     "text": [
      "{'name': 'ravi', 'dept': 'sales', 'salary': 2000, 'id': 124324, 'age': 24}\n",
      "{'name': 'Ajay Kumar', 'age': 22, 'profession': 'Software Engineer', 'Experience': 'No Experience', 'languages': 'C C++ Java python'}\n",
      "<class 'dict'> <class 'dict'>\n",
      "Length of Biodata= 5\n",
      "Ajay Kumar\n",
      "C C++ Java python\n"
     ]
    }
   ],
   "source": [
    "print(er)\n",
    "biodata={'name':'Ajay Kumar',\n",
    "         'age':22,\n",
    "         'profession':'Software Engineer',\n",
    "         'Experience':'No Experience',\n",
    "         'languages':'C C++ Java python'}\n",
    "print(biodata)\n",
    "print(type(er),type(biodata))\n",
    "print('Length of Biodata=',len(biodata))\n",
    "print(biodata['name'])\n",
    "biodata['age']\n",
    "print(biodata['languages'])"
   ]
  },
  {
   "cell_type": "code",
   "execution_count": 9,
   "metadata": {},
   "outputs": [
    {
     "name": "stdout",
     "output_type": "stream",
     "text": [
      "[1, 5, 7, 'ajay']\n"
     ]
    }
   ],
   "source": [
    "listt=[1,5,7,'ajay']\n",
    "print(listt)"
   ]
  },
  {
   "cell_type": "code",
   "execution_count": 7,
   "metadata": {},
   "outputs": [
    {
     "data": {
      "text/plain": [
       "5"
      ]
     },
     "execution_count": 7,
     "metadata": {},
     "output_type": "execute_result"
    }
   ],
   "source": [
    "len(er)"
   ]
  },
  {
   "cell_type": "code",
   "execution_count": 9,
   "metadata": {},
   "outputs": [],
   "source": [
    "qq={}   #empty dict\n"
   ]
  },
  {
   "cell_type": "code",
   "execution_count": 27,
   "metadata": {},
   "outputs": [],
   "source": [
    "book={'this is final book':10}"
   ]
  },
  {
   "cell_type": "code",
   "execution_count": 28,
   "metadata": {},
   "outputs": [
    {
     "data": {
      "text/plain": [
       "10"
      ]
     },
     "execution_count": 28,
     "metadata": {},
     "output_type": "execute_result"
    }
   ],
   "source": [
    "book['this is final book']"
   ]
  },
  {
   "cell_type": "code",
   "execution_count": 29,
   "metadata": {},
   "outputs": [],
   "source": [
    "book={'harry':'porter'}"
   ]
  },
  {
   "cell_type": "code",
   "execution_count": 30,
   "metadata": {},
   "outputs": [],
   "source": [
    "book['full']=20"
   ]
  },
  {
   "cell_type": "code",
   "execution_count": 31,
   "metadata": {},
   "outputs": [
    {
     "name": "stdout",
     "output_type": "stream",
     "text": [
      "{'harry': 'porter', 'full': 20}\n"
     ]
    }
   ],
   "source": [
    "print(book)"
   ]
  },
  {
   "cell_type": "code",
   "execution_count": 33,
   "metadata": {},
   "outputs": [],
   "source": [
    "book['history']=40\n",
    "book['android']=20"
   ]
  },
  {
   "cell_type": "code",
   "execution_count": 35,
   "metadata": {},
   "outputs": [],
   "source": [
    "book['python']=12\n",
    "book['let c']='nice'"
   ]
  },
  {
   "cell_type": "code",
   "execution_count": 36,
   "metadata": {},
   "outputs": [
    {
     "name": "stdout",
     "output_type": "stream",
     "text": [
      "{'harry': 'porter', 'full': 20, 'python': 12, 'history': 40, 'android': 20, 'let c': 'nice'}\n"
     ]
    }
   ],
   "source": [
    "print(book)"
   ]
  },
  {
   "cell_type": "code",
   "execution_count": 37,
   "metadata": {},
   "outputs": [
    {
     "name": "stdout",
     "output_type": "stream",
     "text": [
      "harry\n",
      "full\n",
      "python\n",
      "history\n",
      "android\n",
      "let c\n"
     ]
    }
   ],
   "source": [
    "for b in book:\n",
    "    print(b)\n",
    "    "
   ]
  },
  {
   "cell_type": "code",
   "execution_count": 38,
   "metadata": {},
   "outputs": [
    {
     "data": {
      "text/plain": [
       "dict_values(['porter', 20, 12, 40, 20, 'nice'])"
      ]
     },
     "execution_count": 38,
     "metadata": {},
     "output_type": "execute_result"
    }
   ],
   "source": [
    "book.values()"
   ]
  },
  {
   "cell_type": "code",
   "execution_count": 39,
   "metadata": {},
   "outputs": [
    {
     "name": "stdout",
     "output_type": "stream",
     "text": [
      "harry porter\n",
      "full 20\n",
      "python 12\n",
      "history 40\n",
      "android 20\n",
      "let c nice\n"
     ]
    }
   ],
   "source": [
    "for i in book:\n",
    "    print(i,book[i])"
   ]
  },
  {
   "cell_type": "code",
   "execution_count": 39,
   "metadata": {},
   "outputs": [
    {
     "data": {
      "text/plain": [
       "('python', 1)"
      ]
     },
     "execution_count": 39,
     "metadata": {},
     "output_type": "execute_result"
    }
   ],
   "source": [
    "book.popitem()"
   ]
  },
  {
   "cell_type": "code",
   "execution_count": 40,
   "metadata": {},
   "outputs": [
    {
     "data": {
      "text/plain": [
       "20"
      ]
     },
     "execution_count": 40,
     "metadata": {},
     "output_type": "execute_result"
    }
   ],
   "source": [
    "book.pop('get')"
   ]
  },
  {
   "cell_type": "code",
   "execution_count": 41,
   "metadata": {},
   "outputs": [
    {
     "name": "stdout",
     "output_type": "stream",
     "text": [
      "{'this is final book': 10, 'full': 20, 'kirana': 40, 'death': 1, 'history': 40, 'android': 20}\n"
     ]
    }
   ],
   "source": [
    "print(book)"
   ]
  },
  {
   "cell_type": "code",
   "execution_count": 44,
   "metadata": {},
   "outputs": [
    {
     "name": "stdout",
     "output_type": "stream",
     "text": [
      "{'cool': 'cold', 'suffocation': 'problem in breathing', 'doubt': 'having some misconcept', 'key': 'a value', 'roof': 'terrace'}\n"
     ]
    }
   ],
   "source": [
    "#wap to a dictionary and add 5 items and there meaning by user\n",
    "aa={}\n",
    "for i in range(5):\n",
    "    t=input(\"enterword\")\n",
    "    aa[t]=input('enter meaning')\n",
    "print(aa)"
   ]
  },
  {
   "cell_type": "code",
   "execution_count": 43,
   "metadata": {},
   "outputs": [
    {
     "name": "stdout",
     "output_type": "stream",
     "text": [
      "{'ajay': 'king', 'n': 'alue', 'adf': 'sdfsd', 'sd': 'ds'}\n"
     ]
    }
   ],
   "source": [
    "print(aa)"
   ]
  },
  {
   "cell_type": "code",
   "execution_count": 45,
   "metadata": {},
   "outputs": [],
   "source": [
    "se={'apple':'red','orange':'orange','guava':'green'}"
   ]
  },
  {
   "cell_type": "code",
   "execution_count": 46,
   "metadata": {},
   "outputs": [],
   "source": [
    "other={'potato':'brown','brinjal':'purple'}"
   ]
  },
  {
   "cell_type": "code",
   "execution_count": 48,
   "metadata": {},
   "outputs": [
    {
     "name": "stdout",
     "output_type": "stream",
     "text": [
      "{'apple': 'red', 'orange': 'orange', 'guava': 'green', 'potato': 'brown', 'brinjal': 'purple'}\n"
     ]
    }
   ],
   "source": [
    "se.update(other)\n",
    "print(se)"
   ]
  },
  {
   "cell_type": "code",
   "execution_count": 51,
   "metadata": {},
   "outputs": [
    {
     "name": "stdout",
     "output_type": "stream",
     "text": [
      "{'apple': 'red', 'orange': 'org', 'guava': 'green', 'potato': 'brown', 'brinjal': 'purple'}\n"
     ]
    }
   ],
   "source": [
    "se['orange']='org'\n",
    "print(se)"
   ]
  },
  {
   "cell_type": "code",
   "execution_count": 52,
   "metadata": {},
   "outputs": [
    {
     "data": {
      "text/plain": [
       "'brown'"
      ]
     },
     "execution_count": 52,
     "metadata": {},
     "output_type": "execute_result"
    }
   ],
   "source": [
    "se.setdefault('potato')"
   ]
  },
  {
   "cell_type": "code",
   "execution_count": 1,
   "metadata": {},
   "outputs": [
    {
     "name": "stdout",
     "output_type": "stream",
     "text": [
      "ajay\n",
      "amit\n"
     ]
    }
   ],
   "source": [
    "#wap to store detail of 5 student consist of subject and there marks all dict\n",
    "st={}\n",
    "data={}\n",
    "for i in range(2):\n",
    "    na=input(\"enter student name\")\n",
    "    for i in range(2):\n",
    "        su=input('enter Subject:')\n",
    "        marks=input(\"enter marks:\")\n",
    "        data[su]=marks\n",
    "    st[na]=data\n",
    "for i in st:\n",
    "    print(i)"
   ]
  },
  {
   "cell_type": "code",
   "execution_count": 10,
   "metadata": {},
   "outputs": [
    {
     "name": "stdout",
     "output_type": "stream",
     "text": [
      "{'ajay': {'hindi': 10, 'eng': 20, 'math': 23}, 'raj': {'hindi': 23, 'eng': 34, 'math': 45}}\n"
     ]
    }
   ],
   "source": [
    "st={}\n",
    "no={}\n",
    "sub={}\n",
    "st={'ajay':{'hindi':10,\n",
    "           'eng':20,\n",
    "            'math':23},\n",
    "    'raj':{'hindi':23,\n",
    "          'eng':34,\n",
    "          'math':45}\n",
    "   }\n",
    "print(st)"
   ]
  },
  {
   "cell_type": "code",
   "execution_count": 11,
   "metadata": {},
   "outputs": [],
   "source": [
    "#from user"
   ]
  },
  {
   "cell_type": "markdown",
   "metadata": {},
   "source": []
  },
  {
   "cell_type": "code",
   "execution_count": 8,
   "metadata": {},
   "outputs": [
    {
     "ename": "TypeError",
     "evalue": "'str' object is not callable",
     "output_type": "error",
     "traceback": [
      "\u001b[1;31m---------------------------------------------------------------------------\u001b[0m",
      "\u001b[1;31mTypeError\u001b[0m                                 Traceback (most recent call last)",
      "\u001b[1;32m<ipython-input-8-2f2c307062bc>\u001b[0m in \u001b[0;36m<module>\u001b[1;34m()\u001b[0m\n\u001b[0;32m      5\u001b[0m \u001b[0mre\u001b[0m\u001b[1;33m=\u001b[0m\u001b[1;33m{\u001b[0m\u001b[1;33m}\u001b[0m\u001b[1;33m\u001b[0m\u001b[0m\n\u001b[0;32m      6\u001b[0m \u001b[1;32mwhile\u001b[0m \u001b[1;32mTrue\u001b[0m\u001b[1;33m:\u001b[0m\u001b[1;33m\u001b[0m\u001b[0m\n\u001b[1;32m----> 7\u001b[1;33m     \u001b[0mn\u001b[0m\u001b[1;33m=\u001b[0m\u001b[0minput\u001b[0m\u001b[1;33m(\u001b[0m\u001b[1;34m\"enter name\"\u001b[0m\u001b[1;33m)\u001b[0m\u001b[1;33m\u001b[0m\u001b[0m\n\u001b[0m\u001b[0;32m      8\u001b[0m     \u001b[0mme\u001b[0m\u001b[1;33m=\u001b[0m\u001b[0minput\u001b[0m\u001b[1;33m(\u001b[0m\u001b[1;34m\"enter surname\"\u001b[0m\u001b[1;33m)\u001b[0m\u001b[1;33m\u001b[0m\u001b[0m\n\u001b[0;32m      9\u001b[0m     \u001b[0mre\u001b[0m\u001b[1;33m[\u001b[0m\u001b[0mn\u001b[0m\u001b[1;33m]\u001b[0m\u001b[1;33m=\u001b[0m\u001b[0mme\u001b[0m\u001b[1;33m\u001b[0m\u001b[0m\n",
      "\u001b[1;31mTypeError\u001b[0m: 'str' object is not callable"
     ]
    }
   ],
   "source": [
    "def fun(d):\n",
    "    for key,val in d.items():\n",
    "        print(f'{key} surname is {values}')\n",
    "    \n",
    "re={}\n",
    "while True:\n",
    "    n=input(\"enter name\")\n",
    "    me=input(\"enter surname\")\n",
    "    re[n]=me\n",
    "    \n",
    "    k=input(\"enter y/n for continue or exit \")\n",
    "    if k=='y':\n",
    "        continue\n",
    "    else:\n",
    "        break\n",
    "\n",
    "fun(re)\n"
   ]
  },
  {
   "cell_type": "code",
   "execution_count": null,
   "metadata": {},
   "outputs": [],
   "source": []
  }
 ],
 "metadata": {
  "kernelspec": {
   "display_name": "Python 3",
   "language": "python",
   "name": "python3"
  },
  "language_info": {
   "codemirror_mode": {
    "name": "ipython",
    "version": 3
   },
   "file_extension": ".py",
   "mimetype": "text/x-python",
   "name": "python",
   "nbconvert_exporter": "python",
   "pygments_lexer": "ipython3",
   "version": "3.6.5"
  }
 },
 "nbformat": 4,
 "nbformat_minor": 2
}
